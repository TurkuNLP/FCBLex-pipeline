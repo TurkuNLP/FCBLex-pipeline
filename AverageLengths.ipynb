{
 "cells": [
  {
   "cell_type": "code",
   "execution_count": 35,
   "id": "288a0f35",
   "metadata": {},
   "outputs": [],
   "source": [
    "from scripts import bookdatafunctions as bdf\n",
    "import numpy as np"
   ]
  },
  {
   "cell_type": "code",
   "execution_count": 2,
   "id": "6af89153",
   "metadata": {},
   "outputs": [],
   "source": [
    "corpus = bdf.mapGroup2Age(bdf.initBooksFromConllus(\"Conllus\"), \"ISBN_MAPS/ISBN2AGE.xlsx\")"
   ]
  },
  {
   "cell_type": "code",
   "execution_count": 19,
   "id": "937038b1",
   "metadata": {},
   "outputs": [],
   "source": [
    "sub_1 = [5,6,7,8]\n",
    "sub_2 = [9,10,11,12]\n",
    "sub_3 = [x for x in bdf.getAvailableAges(corpus) if x not in (sub_1+sub_2)]"
   ]
  },
  {
   "cell_type": "code",
   "execution_count": 22,
   "id": "e3efb52c",
   "metadata": {},
   "outputs": [],
   "source": [
    "subc_1 = {key:corpus[key] for key in corpus.keys() if int(bdf.findAgeFromID(key)) in sub_1}\n",
    "subc_2 = {key:corpus[key] for key in corpus.keys() if int(bdf.findAgeFromID(key)) in sub_2}\n",
    "subc_3 = {key:corpus[key] for key in corpus.keys() if int(bdf.findAgeFromID(key)) in sub_3}"
   ]
  },
  {
   "cell_type": "code",
   "execution_count": 27,
   "id": "ca1357ff",
   "metadata": {},
   "outputs": [],
   "source": [
    "sub_subc1 = {}\n",
    "sub_subc2 = {}\n",
    "sub_subc3 = {}\n",
    "regs = ['1','2','3']\n",
    "\n",
    "for i in regs:\n",
    "    sub_subc1[i] = {key:corpus[key] for key in subc_1.keys() if key[-1] == i}\n",
    "    sub_subc2[i] = {key:corpus[key] for key in subc_2.keys() if key[-1] == i}\n",
    "    sub_subc3[i] = {key:corpus[key] for key in subc_3.keys() if key[-1] == i}"
   ]
  },
  {
   "cell_type": "code",
   "execution_count": 43,
   "id": "224baa70",
   "metadata": {},
   "outputs": [
    {
     "name": "stdout",
     "output_type": "stream",
     "text": [
      "For register:  1  the average token amount for 7-8 is:  27705.786666666667\n",
      "For register:  1  the average token amount for 9-12 is:  46487.17333333333\n",
      "For register:  1  the average token amount for 13+ is:  61045.613333333335\n",
      "For register:  2  the average token amount for 7-8 is:  10572.266666666666\n",
      "For register:  2  the average token amount for 9-12 is:  19366.666666666668\n",
      "For register:  2  the average token amount for 13+ is:  32925.86666666667\n",
      "For register:  3  the average token amount for 7-8 is:  14963.9\n",
      "For register:  3  the average token amount for 9-12 is:  18844.0\n",
      "For register:  3  the average token amount for 13+ is:  16893.3\n"
     ]
    }
   ],
   "source": [
    "for reg in regs:\n",
    "    t_1 = list(bdf.getTokenAmounts(sub_subc1[reg]).values())\n",
    "    t_2 = list(bdf.getTokenAmounts(sub_subc2[reg]).values())\n",
    "    t_3 = list(bdf.getTokenAmounts(sub_subc3[reg]).values())\n",
    "    print(\"For register: \",reg,\" the average token amount for 7-8 is: \", np.mean(t_1))\n",
    "    print(\"For register: \",reg,\" the average token amount for 9-12 is: \", np.mean(t_2))\n",
    "    print(\"For register: \",reg,\" the average token amount for 13+ is: \", np.mean(t_3))"
   ]
  }
 ],
 "metadata": {
  "kernelspec": {
   "display_name": "Test",
   "language": "python",
   "name": "python3"
  },
  "language_info": {
   "codemirror_mode": {
    "name": "ipython",
    "version": 3
   },
   "file_extension": ".py",
   "mimetype": "text/x-python",
   "name": "python",
   "nbconvert_exporter": "python",
   "pygments_lexer": "ipython3",
   "version": "3.10.16"
  }
 },
 "nbformat": 4,
 "nbformat_minor": 5
}
