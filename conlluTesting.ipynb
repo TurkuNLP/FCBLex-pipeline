{
 "cells": [
  {
   "cell_type": "code",
   "execution_count": 5,
   "metadata": {},
   "outputs": [],
   "source": [
    "#Imports\n",
    "import json\n",
    "from trankit import trankit2conllu\n",
    "import os\n"
   ]
  },
  {
   "cell_type": "code",
   "execution_count": 6,
   "metadata": {},
   "outputs": [],
   "source": [
    "#Constants"
   ]
  },
  {
   "cell_type": "code",
   "execution_count": 7,
   "metadata": {},
   "outputs": [],
   "source": [
    "#JSON to CoNLLU\n",
    "\n",
    "for file in os.listdir(\"Parsed\"):\n",
    "    with open(\"Parsed/\"+file) as json_file:\n",
    "        #Convert json to dict\n",
    "        data = json.load(json_file)\n",
    "        connlu_doc = trankit2conllu(data)\n",
    "        with open(\"Conllus/\"+file.replace(\".json\", \".conllu\"), \"w\", encoding=\"utf-8\") as writer:\n",
    "            writer.write(connlu_doc)\n",
    "        #doc = Document(data)\n",
    "        #CoNLL.write_doc2conll(doc, \"Parsed/\"+file.replace(\".json\", \".conllu\"))\n"
   ]
  }
 ],
 "metadata": {
  "kernelspec": {
   "display_name": "Test",
   "language": "python",
   "name": "python3"
  },
  "language_info": {
   "codemirror_mode": {
    "name": "ipython",
    "version": 3
   },
   "file_extension": ".py",
   "mimetype": "text/x-python",
   "name": "python",
   "nbconvert_exporter": "python",
   "pygments_lexer": "ipython3",
   "version": "3.10.16"
  }
 },
 "nbformat": 4,
 "nbformat_minor": 2
}
