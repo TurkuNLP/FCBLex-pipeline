{
 "cells": [
  {
   "cell_type": "code",
   "execution_count": 1,
   "id": "688f3f27",
   "metadata": {},
   "outputs": [],
   "source": [
    "#Imports\n",
    "from scripts import bookdatafunctions as bdf\n",
    "import pandas as pd\n",
    "import numpy as np\n",
    "import matplotlib as plt\n",
    "import seaborn as sns\n",
    "import warnings\n",
    "from collections import Counter\n",
    "from pprint import pprint\n",
    "warnings.filterwarnings('ignore')\n",
    "\n",
    "#Constants\n",
    "JSON_PATH = \"Parsed\"\n",
    "CONLLU_PATH = \"Conllus\"\n",
    "ISBN2AGE_PATH = \"ISBN_MAPS/ISBN2AGE.xlsx\""
   ]
  },
  {
   "cell_type": "code",
   "execution_count": 2,
   "id": "8b6f9573",
   "metadata": {},
   "outputs": [],
   "source": [
    "#Load corpus and map ages\n",
    "corpus_ages_mapped = bdf.mapExactAgeToMean(bdf.mapGroup2Age(bdf.cleanLemmas(bdf.initBooksFromConllus(CONLLU_PATH)), ISBN2AGE_PATH))"
   ]
  },
  {
   "cell_type": "code",
   "execution_count": 3,
   "id": "3885723b",
   "metadata": {},
   "outputs": [],
   "source": [
    "temp = [(bdf.findAgeFromID(x),x[-1]) for x in corpus_ages_mapped.keys()]"
   ]
  },
  {
   "cell_type": "code",
   "execution_count": 4,
   "id": "dce53d36",
   "metadata": {},
   "outputs": [
    {
     "name": "stdout",
     "output_type": "stream",
     "text": [
      "Counter({('10', '1'): 74,\n",
      "         ('7', '1'): 73,\n",
      "         ('14', '1'): 56,\n",
      "         ('7', '2'): 16,\n",
      "         ('14', '2'): 15,\n",
      "         ('10', '2'): 15,\n",
      "         ('10', '3'): 14,\n",
      "         ('7', '3'): 13,\n",
      "         ('14', '3'): 10})\n"
     ]
    }
   ],
   "source": [
    "pprint(Counter(temp), sort_dicts=False)"
   ]
  }
 ],
 "metadata": {
  "kernelspec": {
   "display_name": "Test",
   "language": "python",
   "name": "python3"
  },
  "language_info": {
   "codemirror_mode": {
    "name": "ipython",
    "version": 3
   },
   "file_extension": ".py",
   "mimetype": "text/x-python",
   "name": "python",
   "nbconvert_exporter": "python",
   "pygments_lexer": "ipython3",
   "version": "3.10.16"
  }
 },
 "nbformat": 4,
 "nbformat_minor": 5
}
