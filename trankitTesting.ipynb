{
 "cells": [
  {
   "cell_type": "code",
   "execution_count": 63,
   "id": "e39ef8bd-68f0-42eb-af09-8ba2dce79786",
   "metadata": {},
   "outputs": [],
   "source": [
    "#Imports\n",
    "import trankit\n",
    "from trankit import Pipeline\n",
    "import os\n",
    "import numpy\n",
    "import json\n",
    "from natsort import natsorted"
   ]
  },
  {
   "cell_type": "code",
   "execution_count": 64,
   "id": "afd7f117-2d97-42d5-b5a2-3ce86a22e410",
   "metadata": {},
   "outputs": [],
   "source": [
    "#Constants"
   ]
  },
  {
   "cell_type": "code",
   "execution_count": 65,
   "id": "c5b8a81e",
   "metadata": {},
   "outputs": [
    {
     "name": "stdout",
     "output_type": "stream",
     "text": [
      "Loading pretrained XLM-Roberta, this may take a while...\n",
      "Loading tokenizer for finnish\n",
      "Loading tagger for finnish\n",
      "Loading multi-word expander for finnish\n",
      "Loading lemmatizer for finnish\n",
      "==================================================\n",
      "Active language: finnish\n",
      "==================================================\n"
     ]
    },
    {
     "name": "stderr",
     "output_type": "stream",
     "text": [
      "/home/tenojo/miniconda3/envs/Test/lib/python3.10/site-packages/adapters/composition.py:186: FutureWarning: Passing list objects for adapter activation is deprecated. Please use Stack or Fuse explicitly.\n",
      "  warnings.warn(\n"
     ]
    }
   ],
   "source": [
    "#Setups\n",
    "p = Pipeline('finnish')"
   ]
  },
  {
   "cell_type": "code",
   "execution_count": 66,
   "id": "fdb24dfe",
   "metadata": {},
   "outputs": [],
   "source": [
    "#For each book\n",
    "for folder in os.listdir(\"Texts\"):\n",
    "    #If a folder exists, we assume that that book has already been parsed\n",
    "\n",
    "    if os.path.exists(\"Parsed/\"+folder+\"_parsed.json\"):\n",
    "        continue\n",
    "    #Combine all pages together into a book\n",
    "    text=\"\"\n",
    "    #For each page\n",
    "    for page in natsorted(os.listdir(\"Texts/\"+folder)):\n",
    "        with open(\"Texts/\"+folder+\"/\"+page) as reader:\n",
    "             text=text+reader.read()\n",
    "        reader.close()\n",
    "    #Start with parsing the book\n",
    "    with open(\"Parsed/\"+folder+\"_parsed.json\", \"w\", encoding=\"utf-8\") as fp:\n",
    "        #Parse text if text is not empty\n",
    "        if len(text)!=0:\n",
    "            data = p(text)\n",
    "            #Write results to file\n",
    "            json.dump(data, fp, ensure_ascii=False)\n"
   ]
  }
 ],
 "metadata": {
  "kernelspec": {
   "display_name": "Test",
   "language": "python",
   "name": "python3"
  },
  "language_info": {
   "codemirror_mode": {
    "name": "ipython",
    "version": 3
   },
   "file_extension": ".py",
   "mimetype": "text/x-python",
   "name": "python",
   "nbconvert_exporter": "python",
   "pygments_lexer": "ipython3",
   "version": "3.10.16"
  }
 },
 "nbformat": 4,
 "nbformat_minor": 5
}
