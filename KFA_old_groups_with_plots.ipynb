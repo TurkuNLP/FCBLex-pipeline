{
 "cells": [
  {
   "cell_type": "code",
   "execution_count": 1,
   "metadata": {},
   "outputs": [],
   "source": [
    "from scripts import bookdatafunctions as bdf\n",
    "import pandas as pd\n",
    "import seaborn as sns\n",
    "import numpy as np\n",
    "import warnings\n",
    "warnings.filterwarnings('ignore')"
   ]
  },
  {
   "cell_type": "code",
   "execution_count": 2,
   "metadata": {},
   "outputs": [],
   "source": [
    "#Constants\n",
    "\n",
    "#In the deprel column\n",
    "#Dependency relation types in Finnish UD\n",
    "DEPRELS = ['root', 'nsubj', 'advmod', 'obl', 'obj', 'conj', 'aux', 'cc', 'amod', 'nmod:poss', 'mark', 'cop', 'nsubj:cop', 'advcl', 'xcomp', 'case', 'det', 'ccomp', 'nmod', 'parataxis', 'acl:relcl', 'acl', 'xcomp:ds', 'discourse', 'nummod', 'fixed', 'cop:own', 'appos', 'flat:name', 'compound:nn', 'aux:pass', 'vocative', 'nmod:gobj', 'nmod:gsubj', 'compound:prt', 'csubj:cop', 'flat:foreign', 'orphan', 'cc:preconj', 'csubj', 'compound', 'flat', 'goeswith']\n",
    "\n",
    "#In the feats column\n",
    "#Cases in Finnihs UD\n",
    "CASES = ['Case=Nom', 'Case=Gen', 'Case=Par', 'Case=Ill', 'Case=Ine', 'Case=Ela', 'Case=Ade', 'Case=All', 'Case=Ess', 'Case=Abl', 'Case=Tra', 'Case=Acc', 'Case=Ins', 'Case=Abe', 'Case=Com']\n",
    "#Verb forms in Finnish UD\n",
    "VERBFORMS = ['VerbForm=Fin', 'VerbForm=Inf', 'VerbForm=Part']\n",
    "#Verb tenses in Finnish UD\n",
    "VERBTENSES = ['Tense=Pres', 'Tense=Past']\n",
    "#Verb voices in Finnish UD\n",
    "VERBVOICES = ['Voice=Act', 'Voice=Pass']\n",
    "#Verb moods in Finnish UD\n",
    "VERBMOODS = ['Mood=Ind', 'Mood=Cnd', 'Mood=Imp']\n",
    "#Verb 'person' in Finnish UD (aka first person, second person and so on)\n",
    "PERSONS = ['Person=0', 'Person=1', 'Person=2', 'Person=3']\n",
    "#Verb 'number' in Finnish UD (aka first singluar person [me] or first plural person [we] and so on)\n",
    "NUMBERS = ['Number=Sing', 'Number=Plur']\n",
    "#Connegative (aka verb that has been given a negative meaning by 'ei')\n",
    "CONNEGATIVE = ['Connegative=Yes']\n",
    "#Degrees in Finnish UD (positive, comparative, and superlative)\n",
    "DEGREES = ['Degree=Pos','Degree=Cmp','Degree=Sup']\n",
    "FEATS = CASES + VERBFORMS + VERBTENSES + VERBVOICES + VERBMOODS + PERSONS + NUMBERS + CONNEGATIVE + DEGREES\n",
    "#In the upos column\n",
    "#POS tags in Finnish UD\n",
    "POS = ['NOUN', 'VERB', 'PRON', 'ADV', 'AUX', 'ADJ', 'PROPN', 'CCONJ', 'SCONJ', 'ADP', 'NUM', 'INTJ']\n",
    "\n",
    "\n",
    "ALL_FEATS = DEPRELS + FEATS + POS \n"
   ]
  },
  {
   "cell_type": "code",
   "execution_count": 3,
   "metadata": {},
   "outputs": [],
   "source": [
    "def tempDFGenerator(measures: dict[int, dict], name: str) -> pd.DataFrame:\n",
    "    effect_size_12 = bdf.cohensdForSubcorps(measures[1], measures[2])\n",
    "    effect_size_23 = bdf.cohensdForSubcorps(measures[2], measures[3])\n",
    "    effect_size_13 = bdf.cohensdForSubcorps(measures[1], measures[3])\n",
    "\n",
    "    return pd.DataFrame({\"1-2\":effect_size_12, \"2-3\":effect_size_23, \"1-3\":effect_size_13}, index=[name])"
   ]
  },
  {
   "cell_type": "code",
   "execution_count": 4,
   "metadata": {},
   "outputs": [
    {
     "name": "stdout",
     "output_type": "stream",
     "text": [
      "Start...\n"
     ]
    }
   ],
   "source": [
    "\n",
    "#Excel-file hosting information to map a book to its 'exact' intended reading age\n",
    "\n",
    "ISBN2AGE_PATH = \"ISBN_MAPS/ISBN2AGE.xlsx\"\n",
    "\n",
    "print(\"Start...\")\n",
    "\n",
    "#Load the corpus and, clean lemmas (remove Japanese characters, punctuation, etc.), and map books to their intended reading ages\n",
    "\n",
    "books = bdf.mapGroup2Age(bdf.initBooksFromConllus(\"Conllus\"), ISBN2AGE_PATH)"
   ]
  },
  {
   "cell_type": "code",
   "execution_count": 5,
   "metadata": {},
   "outputs": [],
   "source": [
    "#Create three sub-corpora. \n",
    "# \n",
    "# Sub_1 has ages 5,6,7,8\n",
    "# Sub_2 has ages 9,10,11,12\n",
    "# Sub_3 has ages 13,14,15\n",
    "\n",
    "sub_1 = bdf.combineSubCorpDicts([bdf.getRangeSubCorp(books, 6), bdf.getDistinctSubCorp(books, 8)])\n",
    "sub_2 = bdf.combineSubCorpDicts([bdf.getRangeSubCorp(books, 10), bdf.getDistinctSubCorp(books, 12)])\n",
    "sub_3 = bdf.getRangeSubCorp(books, 14)\n",
    "\n",
    "sub_corps = {1:sub_1, 2:sub_2, 3:sub_3}\n",
    "\n",
    "COMPARISONS = [\"1-2\", \"2-3\", \"1-3\"]\n",
    "\n",
    "ef_sizes = []"
   ]
  },
  {
   "cell_type": "code",
   "execution_count": 6,
   "metadata": {},
   "outputs": [],
   "source": [
    "def getPosPhraseCounts(corpus: dict[str,pd.DataFrame], upos: str) -> dict[str,int]:\n",
    "    \"\"\"\n",
    "    Function for calculating the number of POS phrases for each book in (sub)corpus.\n",
    "    Working POS-tags are those listed in the CoNLLU file format\n",
    "    \"\"\"\n",
    "    returnable = {}\n",
    "    for key in corpus:\n",
    "        df = corpus[key]\n",
    "        returnable[key] = len(df[(df['upos'] == upos) & (df['deprel'] == 'root')])\n",
    "    return returnable"
   ]
  },
  {
   "cell_type": "code",
   "execution_count": 7,
   "metadata": {},
   "outputs": [
    {
     "name": "stdout",
     "output_type": "stream",
     "text": [
      "{'9789523548817_5_2': 63, '9789511269830_7_3': 561, '9789523640580_7_1': 625, '9789511413813_7_1': 256, '9789513173487_5_1': 222, '9789515245908_6_1': 270, '9789520459833_7_2': 396, '9789510491645_5_2': 126, '9789520413453_5_2': 11, '9789523413405_7_1': 164, '9789520420505_5_2': 128, '9789520413620_5_1': 35, '9789513196462_5_1': 228, '9789511379010_6_1': 199, '9789523413597_6_2': 94, '9789526352916_7_3': 510, '9789515252760_6_1': 287, '9789515248794_6_1': 300, '9789511264774_5_1': 699, '9789511475316_6_2': 1275, '9789523543379_6_2': 295, '9789523730618_5_2': 922, '9789523703582_7_1': 268, '9789511425045_7_1': 540, '9789510421185_6_1': 60, '9789510446621_7_1': 165, '9789510427927_7_1': 598, '9789511372813_7_1': 242, '9789511439707_6_1': 284, '9789520423407_5_1': 44, '9789520419912_7_1': 198, '9789523514928_7_2': 380, '9789523640597_7_2': 200, '9789523795075_7_2': 180, '9789511274100_5_1': 701, '9789523416819_7_1': 158, '9789510447659_5_1': 126, '9789523415348_7_1': 165, '9789515251213_6_1': 232, '9789515258458_7_1': 480, '9789520408879_5_1': 226, '9789511273356_5_1': 611, '9789523562295_7_1': 188, '9789523562905_7_1': 140, '9789523940895_7_2': 134, '9789523704121_7_1': 229, '9789522306678_5_2': 50, '9789515252227_6_1': 384, '9789511282891_5_1': 732, '9789527471562_8_1': 285, '9789527269312_8_1': 600, '9789511282884_8_3': 623, '9789523561885_8_1': 190, '9789527343951_8_1': 318, '9789523560833_8_1': 206, '9789523641686_8_1': 572, '9789527269350_8_1': 516, '9789511388975_8_1': 188, '9789527269862_8_1': 582, '9789524090254_8_1': 314, '9789511313212_8_1': 1139, '9789523702240_8_1': 266, '9789511467069_8_1': 221}\n"
     ]
    }
   ],
   "source": [
    "print(getPosPhraseCounts(sub_1, 'NOUN'))"
   ]
  },
  {
   "cell_type": "code",
   "execution_count": 8,
   "metadata": {},
   "outputs": [
    {
     "name": "stdout",
     "output_type": "stream",
     "text": [
      "Processing dependency relations...\n",
      "Processing cases and verb-forms...\n",
      "Processing POS features...\n"
     ]
    }
   ],
   "source": [
    "\n",
    "\n",
    "print(\"Processing dependency relations...\")\n",
    "\n",
    "#Basically map a feature that was listed above (in this case a dependency relation type)\n",
    "#To the Cohen's D value gotten from analysing this feature between two sub-corpora\n",
    "#This is where the Key Feature Analysis is done\n",
    "#How these are calculated are in the functions used located in the 'bookdatafunctions.py' file in the 'Scripts' folder\n",
    "\n",
    "deprel_effect_sizes_12 = {}\n",
    "deprel_effect_sizes_13 = {}\n",
    "deprel_effect_sizes_23 = {}\n",
    "\n",
    "for deprel in DEPRELS:\n",
    "    deprel_effect_sizes_12[deprel] = bdf.cohensdForSubcorps(bdf.getDeprelFeaturePerBook(sub_1, deprel, True), bdf.getDeprelFeaturePerBook(sub_2, deprel, True))\n",
    "    deprel_effect_sizes_13[deprel] = bdf.cohensdForSubcorps(bdf.getDeprelFeaturePerBook(sub_1, deprel, True), bdf.getDeprelFeaturePerBook(sub_3, deprel, True))\n",
    "    deprel_effect_sizes_23[deprel] = bdf.cohensdForSubcorps(bdf.getDeprelFeaturePerBook(sub_2, deprel, True), bdf.getDeprelFeaturePerBook(sub_3, deprel, True))\n",
    "\n",
    "ef_sizes.append(pd.DataFrame({\"1-2\":deprel_effect_sizes_12.values(), \"2-3\":deprel_effect_sizes_23.values(), \"1-3\":deprel_effect_sizes_13.values()}, index=deprel_effect_sizes_23.keys()))\n",
    "\n",
    "print(\"Processing cases and verb-forms...\")\n",
    "\n",
    "#Same steps as before, just repeated for more features\n",
    "\n",
    "feats_effect_sizes_12 = {}\n",
    "feats_effect_sizes_13 = {}\n",
    "feats_effect_sizes_23 = {}\n",
    "\n",
    "\n",
    "for feat in FEATS:\n",
    "    feats_effect_sizes_12[feat] = bdf.cohensdForSubcorps(bdf.getFeatsFeaturePerBook(sub_1, feat, True), bdf.getFeatsFeaturePerBook(sub_2, feat, True))\n",
    "    feats_effect_sizes_13[feat] = bdf.cohensdForSubcorps(bdf.getFeatsFeaturePerBook(sub_1, feat, True), bdf.getFeatsFeaturePerBook(sub_3, feat, True))\n",
    "    feats_effect_sizes_23[feat] = bdf.cohensdForSubcorps(bdf.getFeatsFeaturePerBook(sub_2, feat, True), bdf.getFeatsFeaturePerBook(sub_3, feat, True))\n",
    "\n",
    "ef_sizes.append(pd.DataFrame({\"1-2\":feats_effect_sizes_12.values(), \"2-3\":feats_effect_sizes_23.values(), \"1-3\":feats_effect_sizes_13.values()}, index=feats_effect_sizes_23.keys()))\n",
    "\n",
    "print(\"Processing POS features...\")\n",
    "\n",
    "#Same steps as before, just repeated for POS-tags\n",
    "\n",
    "pos_effect_sizes_12 = {}\n",
    "pos_effect_sizes_13 = {}\n",
    "pos_effect_sizes_23 = {}\n",
    "\n",
    "for pos in POS:\n",
    "    pos_effect_sizes_12[pos] = bdf.cohensdForSubcorps(bdf.getPosFeaturePerBook(sub_1, pos, True), bdf.getPosFeaturePerBook(sub_2, pos, True))\n",
    "    pos_effect_sizes_13[pos] = bdf.cohensdForSubcorps(bdf.getPosFeaturePerBook(sub_1, pos, True), bdf.getPosFeaturePerBook(sub_3, pos, True))\n",
    "    pos_effect_sizes_23[pos] = bdf.cohensdForSubcorps(bdf.getPosFeaturePerBook(sub_2, pos, True), bdf.getPosFeaturePerBook(sub_3, pos, True))\n",
    "\n",
    "ef_sizes.append(pd.DataFrame({\"1-2\":pos_effect_sizes_12.values(), \"2-3\":pos_effect_sizes_23.values(), \"1-3\":pos_effect_sizes_13.values()}, index=pos_effect_sizes_23.keys()))\n",
    "#Separate this old garbage code from the better stuff written down below :)"
   ]
  },
  {
   "cell_type": "code",
   "execution_count": 15,
   "metadata": {},
   "outputs": [
    {
     "name": "stdout",
     "output_type": "stream",
     "text": [
      "Processing raw numbers...\n"
     ]
    }
   ],
   "source": [
    "#I also take a look at the Type-Token Ratios of the sub-corpora and include that in the KFA\n",
    "#Again, how the functions work can be found from the corresponding functions in 'bookdatafunctions.py'\n",
    "\n",
    "lemma_freqs = bdf.getLemmaFrequencies(books)\n",
    "\n",
    "print(\"Processing raw numbers...\")\n",
    "\n",
    "word_freqs = {}\n",
    "word_amounts = {}\n",
    "ttrs = {}\n",
    "mls = {}\n",
    "conj2sent = {}\n",
    "sent_amounts = {}\n",
    "noun_phrases = {}\n",
    "verb_phrases = {}\n",
    "adj_phrases = {}\n",
    "adv_phrases = {}\n",
    "noun_phrases_per_sent = {}\n",
    "verb_phrases_per_sent = {}\n",
    "adj_phrases_per_sent = {}\n",
    "adv_phrases_per_sent = {}\n",
    "for sub in sub_corps:\n",
    "    word_freqs[sub] = bdf.getWordFrequencies(sub_corps[sub])\n",
    "    word_amounts[sub] = bdf.getTokenAmounts(sub_corps[sub])\n",
    "    ttrs[sub] = bdf.getTypeTokenRatios(word_freqs[sub], word_amounts[sub]).to_dict()\n",
    "    mls[sub] = bdf.getAvgSentenceLens(sub_corps[sub])\n",
    "    conj2sent[sub] = bdf.getConjPerSentence(sub_corps[sub])\n",
    "    sent_amounts[sub] = bdf.getNumOfSentences(sub_corps[sub])\n",
    "    noun_phrases[sub] = bdf.getPosPhraseCounts(sub_corps[sub], 'NOUN')\n",
    "    verb_phrases[sub] = bdf.getPosPhraseCounts(sub_corps[sub], 'VERB')\n",
    "    adj_phrases[sub] = bdf.getPosPhraseCounts(sub_corps[sub], 'ADJ')\n",
    "    adv_phrases[sub] = bdf.getPosPhraseCounts(sub_corps[sub], 'ADV')\n",
    "    noun_phrases_per_sent[sub] = bdf.scaleCorpusData(noun_phrases[sub],sent_amounts[sub])\n",
    "    verb_phrases_per_sent[sub] = bdf.scaleCorpusData(verb_phrases[sub],sent_amounts[sub])\n",
    "    adj_phrases_per_sent[sub] = bdf.scaleCorpusData(adj_phrases[sub],sent_amounts[sub])\n",
    "    adv_phrases_per_sent[sub] = bdf.scaleCorpusData(adv_phrases[sub],sent_amounts[sub])\n",
    "\n"
   ]
  },
  {
   "cell_type": "code",
   "execution_count": 17,
   "metadata": {},
   "outputs": [
    {
     "name": "stdout",
     "output_type": "stream",
     "text": [
      "Processing effect sizes...\n"
     ]
    }
   ],
   "source": [
    "\n",
    "print(\"Processing effect sizes...\")\n",
    "ef_sizes.append(tempDFGenerator(ttrs, 'TTR'))\n",
    "ef_sizes.append(tempDFGenerator(mls, 'MLS'))\n",
    "ef_sizes.append(tempDFGenerator(conj2sent, 'C2S'))\n",
    "ef_sizes.append(tempDFGenerator(noun_phrases_per_sent, 'NPS'))\n",
    "ef_sizes.append(tempDFGenerator(verb_phrases_per_sent, 'VPS'))\n",
    "ef_sizes.append(tempDFGenerator(adj_phrases_per_sent, 'ADJPS'))\n",
    "ef_sizes.append(tempDFGenerator(adv_phrases_per_sent, 'ADVPS'))\n",
    "\n",
    "\n",
    "#Combine all the effect sizes into a Pandas Dataframe, so that it is easy to have it all in one place\n",
    "#This dataframe has features as indexes and names of the sub-coprora compared as the columns (so e.g. \"1-2\" for the KFA results between sub coprus 1 and sub corpus 2)\n",
    "\n",
    "effect_sizes = pd.concat(ef_sizes)\n",
    "\n",
    "\n",
    "f_lemma = bdf.combineFrequencies(lemma_freqs)"
   ]
  },
  {
   "cell_type": "code",
   "execution_count": 21,
   "metadata": {},
   "outputs": [
    {
     "data": {
      "image/png": "[encoded data removed]",
      "text/plain": [
       "<Figure size 640x480 with 1 Axes>"
      ]
     },
     "metadata": {},
     "output_type": "display_data"
    }
   ],
   "source": [
    "import matplotlib.pyplot as plt\n",
    "import numpy as np\n",
    "\n",
    "#Some plotting stuff for visualization. Not cleaned and will change in the future, but it works so it's fine :)\n",
    "#This is the plot for KFA on subcorpora 1 and 2\n",
    "#Positive (red) values mean that the feature is more prevalent in sub corpus 1, where as neagitve (blue) values mean its more prevalent in sub corpus 2\n",
    "plot_12_df = pd.DataFrame({\"D\":effect_sizes['1-2'].values, \"Feature\":effect_sizes.index})\n",
    "plot_12_df = plot_12_df[((plot_12_df['D'] < -0.79) | (plot_12_df['D'] > 0.79))]\n",
    "plot_12_df = plot_12_df.sort_values(by=\"D\", ascending=False)\n",
    "\n",
    "def colors_from_values(values, palette_name):\n",
    "    # normalize the values to range [0, 1]\n",
    "    normalized = (values - min(values)) / (max(values) - min(values))\n",
    "    # convert to indices\n",
    "    indices = np.round(normalized * (len(values) - 1)).astype(np.int32)\n",
    "    # use the indices to get the colors\n",
    "    palette = sns.color_palette(palette_name, len(values))\n",
    "    return np.array(palette).take(indices, axis=0)\n",
    "\n",
    "\n",
    "fig, ax = plt.subplots()\n",
    "ax = sns.barplot(plot_12_df, x=\"D\", y=\"Feature\", legend=False, width=0.5, palette=colors_from_values(plot_12_df['D'].values, \"coolwarm\"))\n",
    "ax.tick_params(axis='y', labelsize=8)\n",
    "plt.setp(ax.patches, linewidth=1)\n",
    "plt.show()\n",
    "#g.xticks(data['batch_no'][::50])\n"
   ]
  },
  {
   "cell_type": "code",
   "execution_count": 23,
   "metadata": {},
   "outputs": [
    {
     "data": {
      "image/png": "[encoded data removed]",
      "text/plain": [
       "<Figure size 640x480 with 1 Axes>"
      ]
     },
     "metadata": {},
     "output_type": "display_data"
    }
   ],
   "source": [
    "#This is the plot for KFA on subcorpora 2 and 3\n",
    "plot_23_df = pd.DataFrame({\"D\":effect_sizes['2-3'].values, \"Feature\":effect_sizes.index})\n",
    "plot_23_df = plot_23_df[((plot_23_df['D'] < -0.49) | (plot_23_df['D'] > 0.49))]\n",
    "plot_23_df = plot_23_df.sort_values(by=\"D\", ascending=False)\n",
    "\n",
    "fig, ax = plt.subplots()\n",
    "ax = sns.barplot(plot_23_df, x=\"D\", y=\"Feature\", legend=False, width=0.5, palette=colors_from_values(plot_23_df['D'].values, \"coolwarm\"))\n",
    "ax.tick_params(axis='y', labelsize=8)\n",
    "plt.setp(ax.patches, linewidth=1)\n",
    "plt.show()\n"
   ]
  },
  {
   "cell_type": "code",
   "execution_count": 24,
   "metadata": {},
   "outputs": [
    {
     "data": {
      "image/png": "[encoded data removed]",
      "text/plain": [
       "<Figure size 640x480 with 1 Axes>"
      ]
     },
     "metadata": {},
     "output_type": "display_data"
    }
   ],
   "source": [
    "#This is the plot for KFA on subcorpora 1 and 3\n",
    "plot_13_df = pd.DataFrame({\"D\":effect_sizes['1-3'].values, \"Feature\":effect_sizes.index})\n",
    "plot_13_df = plot_13_df[((plot_13_df['D'] < -0.49) | (plot_13_df['D'] > 0.49))]\n",
    "plot_13_df = plot_13_df.sort_values(by=\"D\", ascending=False)\n",
    "\n",
    "fig, ax = plt.subplots()\n",
    "ax = sns.barplot(plot_13_df, x=\"D\", y=\"Feature\", legend=False, width=0.5, palette=colors_from_values(plot_13_df['D'].values, \"coolwarm\"))\n",
    "ax.tick_params(axis='y', labelsize=8)\n",
    "plt.setp(ax.patches, linewidth=1)\n",
    "plt.show()\n"
   ]
  }
 ],
 "metadata": {
  "kernelspec": {
   "display_name": "Test",
   "language": "python",
   "name": "python3"
  },
  "language_info": {
   "codemirror_mode": {
    "name": "ipython",
    "version": 3
   },
   "file_extension": ".py",
   "mimetype": "text/x-python",
   "name": "python",
   "nbconvert_exporter": "python",
   "pygments_lexer": "ipython3",
   "version": "3.10.16"
  }
 },
 "nbformat": 4,
 "nbformat_minor": 2
}
