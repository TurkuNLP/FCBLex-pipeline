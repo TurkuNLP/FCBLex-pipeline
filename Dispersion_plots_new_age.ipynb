{
 "cells": [
  {
   "cell_type": "code",
   "execution_count": 2,
   "metadata": {},
   "outputs": [],
   "source": [
    "#Imports\n",
    "from scripts import bookdatafunctions as bdf\n",
    "import pandas as pd\n",
    "import numpy as np\n",
    "import matplotlib as plt\n",
    "import seaborn as sns\n",
    "import warnings\n",
    "warnings.filterwarnings('ignore')\n",
    "\n",
    "#Constants\n",
    "JSON_PATH = \"Parsed\"\n",
    "CONLLU_PATH = \"Conllus\"\n",
    "ISBN2AGE_PATH = \"ISBN2AGE/ISBN2AGE.xlsx\""
   ]
  },
  {
   "cell_type": "code",
   "execution_count": 3,
   "metadata": {},
   "outputs": [],
   "source": [
    "#Load corpus and map ages\n",
    "corpus_ages_mapped = bdf.mapGroup2Age(bdf.cleanLemmas(bdf.initBooksFromConllus(CONLLU_PATH)), ISBN2AGE_PATH)"
   ]
  },
  {
   "cell_type": "code",
   "execution_count": 4,
   "metadata": {},
   "outputs": [],
   "source": [
    "#Divide sub-corpora\n",
    "ages = sorted(bdf.getAvailableAges(corpus_ages_mapped))\n",
    "sub_corpora = [bdf.getDistinctSubCorp(corpus_ages_mapped, x) for x in ages]"
   ]
  },
  {
   "cell_type": "code",
   "execution_count": 5,
   "metadata": {},
   "outputs": [],
   "source": [
    "#Grab stats necessary for Dispersion-calculations\n",
    "word_amounts_total = bdf.getTokenAmounts(corpus_ages_mapped)\n",
    "word_amounts_sub = [bdf.getTokenAmounts(x) for x in sub_corpora]\n",
    "\n",
    "word_freqs = bdf.getWordFrequencies(corpus_ages_mapped)\n",
    "word_freqs_sub = [bdf.getWordFrequencies(x) for x in sub_corpora]\n",
    "\n",
    "lemma_freqs = bdf.getLemmaFrequencies(corpus_ages_mapped)\n",
    "lemma_freqs_sub = [bdf.getLemmaFrequencies(x) for x in sub_corpora]\n",
    "\n",
    "#The length of the corpus in words (no PUNCT)\n",
    "sub_l = []\n",
    "for i in range(len(ages)):\n",
    "    sub_l.append(bdf.getL(word_amounts_sub[i]))\n",
    "l = sum(sub_l)\n",
    "#The length of the corpus in parts\n",
    "n = len(corpus_ages_mapped.keys())\n",
    "#The percentages of the n corpus part sizes\n",
    "sub_s = []\n",
    "for i in range(len(ages)):\n",
    "    sub_s.append(bdf.getS(word_amounts_sub[i], sub_l[i]))\n",
    "s = bdf.getS(word_amounts_total, l)\n",
    "#The overall frequencies of words in corpus\n",
    "sub_f_words = []\n",
    "for i in range(len(ages)):\n",
    "    sub_f_words.append(bdf.combineFrequencies(word_freqs_sub[i]))\n",
    "f_words = bdf.combineFrequencies(word_freqs)\n",
    "#The overall frequencies of lemmas in corpus\n",
    "sub_f_lemmas = []\n",
    "for i in range(len(ages)):\n",
    "    sub_f_lemmas.append(bdf.combineFrequencies(lemma_freqs_sub[i]))\n",
    "f_lemmas = bdf.combineFrequencies(lemma_freqs)\n",
    "#The frequencies of words in each corpus part\n",
    "v_words = word_freqs\n",
    "#The frequencies of lemmas in each corpus part\n",
    "v_lemmas = lemma_freqs"
   ]
  },
  {
   "cell_type": "code",
   "execution_count": 6,
   "metadata": {},
   "outputs": [
    {
     "name": "stderr",
     "output_type": "stream",
     "text": [
      "DP calculations: 100%|██████████| 136253/136253 [02:11<00:00, 1038.22it/s]\n",
      "DP calculations: 100%|██████████| 16943/16943 [00:01<00:00, 15763.59it/s]\n",
      "DP calculations: 100%|██████████| 12030/12030 [00:00<00:00, 23691.51it/s]\n",
      "DP calculations: 100%|██████████| 23338/23338 [00:02<00:00, 9802.37it/s] \n",
      "DP calculations: 100%|██████████| 25952/25952 [00:02<00:00, 10990.67it/s]\n",
      "DP calculations: 100%|██████████| 46575/46575 [00:10<00:00, 4598.79it/s]\n",
      "DP calculations: 100%|██████████| 21484/21484 [00:01<00:00, 18944.83it/s]\n",
      "DP calculations: 100%|██████████| 13235/13235 [00:00<00:00, 35402.59it/s]\n",
      "DP calculations: 100%|██████████| 53388/53388 [00:08<00:00, 6135.92it/s]\n",
      "DP calculations: 100%|██████████| 30969/30969 [00:02<00:00, 12122.46it/s]\n",
      "DP calculations: 100%|██████████| 38796/38796 [00:04<00:00, 8971.54it/s]\n",
      "DP calculations: 100%|██████████| 4825/4825 [00:00<00:00, 29110.14it/s]\n",
      "DP calculations: 100%|██████████| 373759/373759 [06:04<00:00, 1026.47it/s]\n",
      "DP calculations: 100%|██████████| 37425/37425 [00:02<00:00, 15731.71it/s]\n",
      "DP calculations: 100%|██████████| 32205/32205 [00:01<00:00, 23274.33it/s]\n",
      "DP calculations: 100%|██████████| 56797/56797 [00:06<00:00, 9318.12it/s]\n",
      "DP calculations: 100%|██████████| 63678/63678 [00:06<00:00, 10409.27it/s]\n",
      "DP calculations: 100%|██████████| 130956/130956 [00:28<00:00, 4572.37it/s]\n",
      "DP calculations: 100%|██████████| 53176/53176 [00:02<00:00, 19708.18it/s]\n",
      "DP calculations: 100%|██████████| 31654/31654 [00:00<00:00, 35076.86it/s]\n",
      "DP calculations: 100%|██████████| 143969/143969 [00:23<00:00, 6073.46it/s]\n",
      "DP calculations: 100%|██████████| 78348/78348 [00:05<00:00, 13411.76it/s]\n",
      "DP calculations: 100%|██████████| 97792/97792 [00:10<00:00, 9320.84it/s]\n",
      "DP calculations: 100%|██████████| 9419/9419 [00:00<00:00, 34508.91it/s]\n"
     ]
    }
   ],
   "source": [
    "#Do Dispersion-calculations\n",
    "#Whole corpus\n",
    "lemma_DP, lemma_DP_norm = bdf.getDP(v_lemmas, f_lemmas, s)\n",
    "#Sub-corpora\n",
    "sub_lemma_dp = []\n",
    "for i in range(len(ages)):\n",
    "    sub_lemma_dp.append(bdf.getDP(lemma_freqs_sub[i], sub_f_lemmas[i], sub_s[i])[0])\n",
    "#Whole corpus\n",
    "word_DP, word_DP_norm = bdf.getDP(v_words, f_words, s)\n",
    "#Sub-corpora\n",
    "sub_word_dp = []\n",
    "for i in range(len(ages)):\n",
    "    sub_word_dp.append(bdf.getDP(word_freqs_sub[i], sub_f_words[i], sub_s[i])[0])"
   ]
  },
  {
   "cell_type": "code",
   "execution_count": 8,
   "metadata": {},
   "outputs": [
    {
     "name": "stdout",
     "output_type": "stream",
     "text": [
      "0           0.950258\n",
      "0#napaa     0.997216\n",
      "0,25-0,5    0.983825\n",
      "0,5-1       0.983825\n",
      "0,5-2       0.983825\n",
      "              ...   \n",
      "⑨           0.996955\n",
      "よ           0.997401\n",
      "ㅚ           0.988000\n",
      "埃           0.992731\n",
      "狼           0.992731\n",
      "Length: 136253, dtype: float64\n"
     ]
    }
   ],
   "source": [
    "print(lemma_DP)"
   ]
  },
  {
   "cell_type": "code",
   "execution_count": 28,
   "metadata": {},
   "outputs": [
    {
     "data": {
      "text/plain": [
       "<matplotlib.lines.Line2D at 0x7ec8c4f1b130>"
      ]
     },
     "execution_count": 28,
     "metadata": {},
     "output_type": "execute_result"
    },
    {
     "data": {
      "image/png": "[encoded data removed]",
      "text/plain": [
       "<Figure size 640x480 with 1 Axes>"
      ]
     },
     "metadata": {},
     "output_type": "display_data"
    }
   ],
   "source": [
    "#Whole corpus\n",
    "ax = lemma_DP.plot.hist(bins=200)\n",
    "per_10 = np.percentile(lemma_DP.values, 10)\n",
    "per_25 = np.percentile(lemma_DP.values, 25)\n",
    "per_50 = np.percentile(lemma_DP.values, 50)\n",
    "ax.axvline(per_10, color='r', linestyle='dashed', linewidth=0.5, label='60th Percentile')\n",
    "ax.axvline(per_25, color='r', linestyle='dashed', linewidth=0.5, label='80th Percentile')\n",
    "ax.axvline(per_50, color='r', linestyle='dashed', linewidth=0.5, label='90th Percentile')"
   ]
  }
 ],
 "metadata": {
  "kernelspec": {
   "display_name": "Test",
   "language": "python",
   "name": "python3"
  },
  "language_info": {
   "codemirror_mode": {
    "name": "ipython",
    "version": 3
   },
   "file_extension": ".py",
   "mimetype": "text/x-python",
   "name": "python",
   "nbconvert_exporter": "python",
   "pygments_lexer": "ipython3",
   "version": "3.10.16"
  }
 },
 "nbformat": 4,
 "nbformat_minor": 2
}
