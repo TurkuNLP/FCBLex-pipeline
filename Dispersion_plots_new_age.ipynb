{
 "cells": [
  {
   "cell_type": "code",
   "execution_count": 1,
   "metadata": {},
   "outputs": [],
   "source": [
    "#Imports\n",
    "from scripts import bookdatafunctions as bdf\n",
    "import pandas as pd\n",
    "import numpy as np\n",
    "import matplotlib as plt\n",
    "import seaborn as sns\n",
    "import warnings\n",
    "warnings.filterwarnings('ignore')\n",
    "\n",
    "#Constants\n",
    "JSON_PATH = \"Parsed\"\n",
    "CONLLU_PATH = \"Conllus\"\n",
    "ISBN2AGE_PATH = \"ISBN_MAPS/ISBN2AGE.xlsx\""
   ]
  },
  {
   "cell_type": "code",
   "execution_count": 2,
   "metadata": {},
   "outputs": [],
   "source": [
    "#Load corpus and map ages\n",
    "corpus_ages_mapped = bdf.mapGroup2Age(bdf.cleanLemmas(bdf.initBooksFromConllus(CONLLU_PATH)), ISBN2AGE_PATH)"
   ]
  },
  {
   "cell_type": "code",
   "execution_count": 3,
   "metadata": {},
   "outputs": [],
   "source": [
    "#Divide sub-corpora\n",
    "ages = sorted(bdf.getAvailableAges(corpus_ages_mapped))\n",
    "sub_corpora = [bdf.getDistinctSubCorp(corpus_ages_mapped, x) for x in ages]"
   ]
  },
  {
   "cell_type": "code",
   "execution_count": 4,
   "metadata": {},
   "outputs": [],
   "source": [
    "#Grab stats necessary for Dispersion-calculations\n",
    "word_amounts_total = bdf.getTokenAmounts(corpus_ages_mapped)\n",
    "word_amounts_sub = [bdf.getTokenAmounts(x) for x in sub_corpora]\n",
    "\n",
    "word_freqs = bdf.getWordFrequencies(corpus_ages_mapped)\n",
    "word_freqs_sub = [bdf.getWordFrequencies(x) for x in sub_corpora]\n",
    "\n",
    "lemma_freqs = bdf.getLemmaFrequencies(corpus_ages_mapped)\n",
    "lemma_freqs_sub = [bdf.getLemmaFrequencies(x) for x in sub_corpora]\n",
    "\n",
    "#The length of the corpus in words (no PUNCT)\n",
    "sub_l = []\n",
    "for i in range(len(ages)):\n",
    "    sub_l.append(bdf.getL(word_amounts_sub[i]))\n",
    "l = sum(sub_l)\n",
    "#The length of the corpus in parts\n",
    "n = len(corpus_ages_mapped.keys())\n",
    "#The percentages of the n corpus part sizes\n",
    "sub_s = []\n",
    "for i in range(len(ages)):\n",
    "    sub_s.append(bdf.getS(word_amounts_sub[i], sub_l[i]))\n",
    "s = bdf.getS(word_amounts_total, l)\n",
    "#The overall frequencies of words in corpus\n",
    "sub_f_words = []\n",
    "for i in range(len(ages)):\n",
    "    sub_f_words.append(bdf.combineFrequencies(word_freqs_sub[i]))\n",
    "f_words = bdf.combineFrequencies(word_freqs)\n",
    "#The overall frequencies of lemmas in corpus\n",
    "sub_f_lemmas = []\n",
    "for i in range(len(ages)):\n",
    "    sub_f_lemmas.append(bdf.combineFrequencies(lemma_freqs_sub[i]))\n",
    "f_lemmas = bdf.combineFrequencies(lemma_freqs)\n",
    "#The frequencies of words in each corpus part\n",
    "v_words = word_freqs\n",
    "#The frequencies of lemmas in each corpus part\n",
    "v_lemmas = lemma_freqs"
   ]
  },
  {
   "cell_type": "code",
   "execution_count": 5,
   "metadata": {},
   "outputs": [],
   "source": [
    "from tqdm import tqdm\n",
    "#Function to calculate D (dispersion) of all the words in the corpus\n",
    "def getDispersion(v: dict, f_series: pd.Series) -> pd.Series:\n",
    "    \"\"\"\n",
    "    Function which calculates the dispersion of a word in a (sub)corpus\n",
    "    :v: dict of form [book_name, pd.Series], series has frequencies per book\n",
    "    :f_df: pd.Series that includes the total frequencies of words/lemmas in the whole corpus\n",
    "    :return: pd.Series, with words/lemmas as indices and dispersions as values\n",
    "    \"\"\"\n",
    "\n",
    "    words = [x[0] for x in f_series.index]\n",
    "    v_prepped = {key:pd.Series(data=np.multiply(v[key].to_numpy(), np.log(v[key].to_numpy())),index=v[key].index) for key in v}\n",
    "    corp_len = np.log(len(list(v.keys())))\n",
    "    D = []\n",
    "    with tqdm(range(len(f_series)), desc=\"D calculations\") as pbar:\n",
    "        #Loop through every single word in the corpus\n",
    "        for word in words:\n",
    "            #Get the freq of the word in the whole corpus\n",
    "            f = f_series[word]\n",
    "            # D = [log(p) * sum(p_i*log(p_i))/p]/log(n)\n",
    "            #Calculate and append D\n",
    "            D.append((np.log(f) - (np.sum([v_prepped[key].get(word,0.0) for key in v]) / f))/corp_len)\n",
    "            #Update pbar\n",
    "            pbar.update(1)\n",
    "    return pd.Series(D, words)"
   ]
  },
  {
   "cell_type": "code",
   "execution_count": 6,
   "metadata": {},
   "outputs": [],
   "source": [
    "v_words = bdf.getColumnFrequencies(sub_corpora[0], ['text'])\n",
    "word_freqs = bdf.combineFrequencies(v_words)"
   ]
  },
  {
   "cell_type": "code",
   "execution_count": 7,
   "metadata": {},
   "outputs": [
    {
     "name": "stderr",
     "output_type": "stream",
     "text": [
      "D calculations: 100%|██████████| 51692/51692 [00:04<00:00, 11222.89it/s]\n"
     ]
    }
   ],
   "source": [
    "word_D = bdf.getDispersion(v_words, word_freqs)\n",
    "word_U = bdf.getU(v_words, word_freqs, word_D)\n",
    "word_SFI = bdf.getSFI(word_U)\n"
   ]
  },
  {
   "cell_type": "code",
   "execution_count": 8,
   "metadata": {},
   "outputs": [
    {
     "name": "stdout",
     "output_type": "stream",
     "text": [
      "10.311476485117241\n",
      "180.30704251079771\n",
      "0.04708020992587822\n",
      "29076.07897051934\n"
     ]
    }
   ],
   "source": [
    "#Whole corpus\n",
    "M_whole = np.mean(word_U.values)\n",
    "SD_whole = np.std(word_U.values)\n",
    "min_whole = np.min(word_U.values)\n",
    "max_whole = np.max(word_U.values)\n",
    "\n",
    "print(M_whole)\n",
    "print(SD_whole)\n",
    "print(min_whole)\n",
    "print(max_whole)"
   ]
  },
  {
   "cell_type": "code",
   "execution_count": 121,
   "metadata": {},
   "outputs": [
    {
     "name": "stdout",
     "output_type": "stream",
     "text": [
      "40.06796048093205\n",
      "6.789580086417227\n",
      "26.728383906507354\n",
      "84.63535839728885\n"
     ]
    }
   ],
   "source": [
    "#Whole corpus\n",
    "M_whole = np.mean(word_SFI.values)\n",
    "SD_whole = np.std(word_SFI.values)\n",
    "min_whole = np.min(word_SFI.values)\n",
    "max_whole = np.max(word_SFI.values)\n",
    "\n",
    "print(M_whole)\n",
    "print(SD_whole)\n",
    "print(min_whole)\n",
    "print(max_whole)"
   ]
  },
  {
   "cell_type": "code",
   "execution_count": 5,
   "metadata": {},
   "outputs": [
    {
     "name": "stderr",
     "output_type": "stream",
     "text": [
      "DP calculations: 100%|██████████| 137060/137060 [02:07<00:00, 1077.33it/s]\n",
      "DP calculations: 100%|██████████| 16943/16943 [00:00<00:00, 17701.09it/s]\n",
      "DP calculations: 100%|██████████| 12030/12030 [00:00<00:00, 25816.16it/s]\n",
      "DP calculations: 100%|██████████| 23338/23338 [00:02<00:00, 10123.74it/s]\n",
      "DP calculations: 100%|██████████| 25952/25952 [00:02<00:00, 11416.34it/s]\n",
      "DP calculations: 100%|██████████| 46575/46575 [00:09<00:00, 4693.21it/s]\n",
      "DP calculations: 100%|██████████| 21484/21484 [00:01<00:00, 19977.47it/s]\n",
      "DP calculations: 100%|██████████| 13235/13235 [00:00<00:00, 38405.26it/s]\n",
      "DP calculations: 100%|██████████| 53388/53388 [00:08<00:00, 6390.40it/s]\n",
      "DP calculations: 100%|██████████| 30969/30969 [00:02<00:00, 14629.01it/s]\n",
      "DP calculations: 100%|██████████| 40354/40354 [00:04<00:00, 8977.92it/s]\n",
      "DP calculations: 100%|██████████| 4825/4825 [00:00<00:00, 35632.88it/s]\n",
      "DP calculations: 100%|██████████| 375903/375903 [05:47<00:00, 1083.06it/s]\n",
      "DP calculations: 100%|██████████| 37425/37425 [00:02<00:00, 17844.20it/s]\n",
      "DP calculations: 100%|██████████| 32205/32205 [00:01<00:00, 25672.64it/s]\n",
      "DP calculations: 100%|██████████| 56797/56797 [00:05<00:00, 10267.47it/s]\n",
      "DP calculations: 100%|██████████| 63678/63678 [00:05<00:00, 11433.32it/s]\n",
      "DP calculations: 100%|██████████| 130956/130956 [00:28<00:00, 4558.65it/s]\n",
      "DP calculations: 100%|██████████| 53176/53176 [00:02<00:00, 18697.21it/s]\n",
      "DP calculations: 100%|██████████| 31654/31654 [00:00<00:00, 35235.80it/s]\n",
      "DP calculations: 100%|██████████| 143969/143969 [00:22<00:00, 6292.12it/s]\n",
      "DP calculations: 100%|██████████| 78348/78348 [00:05<00:00, 14792.84it/s]\n",
      "DP calculations: 100%|██████████| 102151/102151 [00:10<00:00, 9648.53it/s]\n",
      "DP calculations: 100%|██████████| 9419/9419 [00:00<00:00, 37210.38it/s]\n"
     ]
    }
   ],
   "source": [
    "#Do Dispersion-calculations\n",
    "#Whole corpus\n",
    "lemma_DP, lemma_DP_norm = bdf.getDP(v_lemmas, f_lemmas, s)\n",
    "#Sub-corpora\n",
    "sub_lemma_dp = []\n",
    "for i in range(len(ages)):\n",
    "    sub_lemma_dp.append(bdf.getDP(lemma_freqs_sub[i], sub_f_lemmas[i], sub_s[i])[0])\n",
    "#Whole corpus\n",
    "word_DP, word_DP_norm = bdf.getDP(v_words, f_words, s)\n",
    "#Sub-corpora\n",
    "sub_word_dp = []\n",
    "for i in range(len(ages)):\n",
    "    sub_word_dp.append(bdf.getDP(word_freqs_sub[i], sub_f_words[i], sub_s[i])[0])"
   ]
  },
  {
   "cell_type": "markdown",
   "metadata": {},
   "source": [
    "Values"
   ]
  },
  {
   "cell_type": "code",
   "execution_count": 19,
   "metadata": {},
   "outputs": [],
   "source": [
    "#Whole corpus\n",
    "M_whole = np.mean(lemma_DP.values)\n",
    "SD_whole = np.std(lemma_DP.values)\n",
    "min_whole = np.min(lemma_DP.values)\n",
    "max_whole = np.max(lemma_DP.values)\n",
    "per_10_whole = np.percentile(lemma_DP.values, 10)\n",
    "per_25_whole = np.percentile(lemma_DP.values, 25)\n",
    "per_50_whole = np.percentile(lemma_DP.values, 50)\n",
    "per_75_whole = np.percentile(lemma_DP.values, 75)\n",
    "per_90_whole = np.percentile(lemma_DP.values, 90)"
   ]
  },
  {
   "cell_type": "code",
   "execution_count": 20,
   "metadata": {},
   "outputs": [
    {
     "name": "stdout",
     "output_type": "stream",
     "text": [
      "Mean  0.9601696908626508\n",
      "SD  0.09498028853407538\n",
      "Min_whole 0.058100734328897896\n",
      "Max_Whole  0.9997502656971349\n",
      "10th per  0.9199603869726489\n",
      "25th per  0.9762288755025141\n",
      "50th per  0.988099708888357\n",
      "75th per  0.993294350417764\n",
      "90th per  0.9963321193179673\n"
     ]
    }
   ],
   "source": [
    "#Prints for whole corpus\n",
    "print(\"Mean \",M_whole)\n",
    "print(\"SD \",SD_whole)\n",
    "print(\"Min_whole\", min_whole)\n",
    "print(\"Max_Whole \",max_whole)\n",
    "print(\"10th per \",per_10_whole)\n",
    "print(\"25th per \",per_25_whole)\n",
    "print(\"50th per \",per_50_whole)\n",
    "print(\"75th per \",per_75_whole)\n",
    "print(\"90th per \",per_90_whole)"
   ]
  },
  {
   "cell_type": "markdown",
   "metadata": {},
   "source": [
    "Plots"
   ]
  },
  {
   "cell_type": "code",
   "execution_count": 10,
   "metadata": {},
   "outputs": [
    {
     "data": {
      "text/plain": [
       "<matplotlib.lines.Line2D at 0x7004391d79a0>"
      ]
     },
     "execution_count": 10,
     "metadata": {},
     "output_type": "execute_result"
    },
    {
     "data": {
      "image/png": "[encoded data removed]",
      "text/plain": [
       "<Figure size 640x480 with 1 Axes>"
      ]
     },
     "metadata": {},
     "output_type": "display_data"
    }
   ],
   "source": [
    "#Whole corpus\n",
    "ax = lemma_DP.plot.hist(bins=200)\n",
    "per_10 = np.percentile(lemma_DP.values, 10)\n",
    "per_25 = np.percentile(lemma_DP.values, 25)\n",
    "per_50 = np.percentile(lemma_DP.values, 50)\n",
    "ax.axvline(per_10, color='r', linestyle='dashed', linewidth=0.5, label='60th Percentile')\n",
    "ax.axvline(per_25, color='r', linestyle='dashed', linewidth=0.5, label='80th Percentile')\n",
    "ax.axvline(per_50, color='r', linestyle='dashed', linewidth=0.5, label='90th Percentile')"
   ]
  },
  {
   "cell_type": "code",
   "execution_count": 14,
   "metadata": {},
   "outputs": [
    {
     "data": {
      "text/plain": [
       "<matplotlib.lines.Line2D at 0x700439341840>"
      ]
     },
     "execution_count": 14,
     "metadata": {},
     "output_type": "execute_result"
    },
    {
     "data": {
      "image/png": "[encoded data removed]",
      "text/plain": [
       "<Figure size 640x480 with 1 Axes>"
      ]
     },
     "metadata": {},
     "output_type": "display_data"
    }
   ],
   "source": [
    "#Whole corpus\n",
    "ax = word_DP.plot.hist(bins=200)\n",
    "#ax.set_xlim(0.6,1)\n",
    "per_10 = np.percentile(word_DP.values, 10)\n",
    "per_25 = np.percentile(word_DP.values, 25)\n",
    "per_50 = np.percentile(word_DP.values, 50)\n",
    "ax.axvline(per_10, color='r', linestyle='dashed', linewidth=0.5, label='60th Percentile')\n",
    "ax.axvline(per_25, color='r', linestyle='dashed', linewidth=0.5, label='80th Percentile')\n",
    "ax.axvline(per_50, color='r', linestyle='dashed', linewidth=0.5, label='90th Percentile')"
   ]
  },
  {
   "cell_type": "code",
   "execution_count": null,
   "metadata": {},
   "outputs": [],
   "source": []
  }
 ],
 "metadata": {
  "kernelspec": {
   "display_name": "Test",
   "language": "python",
   "name": "python3"
  },
  "language_info": {
   "codemirror_mode": {
    "name": "ipython",
    "version": 3
   },
   "file_extension": ".py",
   "mimetype": "text/x-python",
   "name": "python",
   "nbconvert_exporter": "python",
   "pygments_lexer": "ipython3",
   "version": "3.10.16"
  }
 },
 "nbformat": 4,
 "nbformat_minor": 2
}
