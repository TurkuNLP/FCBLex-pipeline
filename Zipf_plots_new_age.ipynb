{
 "cells": [
  {
   "cell_type": "code",
   "execution_count": 90,
   "metadata": {},
   "outputs": [],
   "source": [
    "#Imports\n",
    "from scripts import bookdatafunctions as bdf\n",
    "import pandas as pd\n",
    "import matplotlib as plt\n",
    "import seaborn as sns\n",
    "import numpy as np"
   ]
  },
  {
   "cell_type": "code",
   "execution_count": null,
   "metadata": {},
   "outputs": [],
   "source": [
    "#Constants\n",
    "CONLLU_FOLDER = \"Conllus\"\n",
    "ISBN2AGE_PATH = \"ISBN_MAPS/ISBN2AGE.xlsx\""
   ]
  },
  {
   "cell_type": "code",
   "execution_count": 92,
   "metadata": {},
   "outputs": [
    {
     "name": "stderr",
     "output_type": "stream",
     "text": [
      "/home/tenojo/Codings/FCBLex-pipeline/scripts/bookdatafunctions.py:472: UserWarning: Boolean Series key will be reindexed to match DataFrame index.\n",
      "  filtered_2 = filtered[m_2]\n",
      "/home/tenojo/Codings/FCBLex-pipeline/scripts/bookdatafunctions.py:472: UserWarning: Boolean Series key will be reindexed to match DataFrame index.\n",
      "  filtered_2 = filtered[m_2]\n",
      "/home/tenojo/Codings/FCBLex-pipeline/scripts/bookdatafunctions.py:472: UserWarning: Boolean Series key will be reindexed to match DataFrame index.\n",
      "  filtered_2 = filtered[m_2]\n",
      "/home/tenojo/Codings/FCBLex-pipeline/scripts/bookdatafunctions.py:472: UserWarning: Boolean Series key will be reindexed to match DataFrame index.\n",
      "  filtered_2 = filtered[m_2]\n",
      "/home/tenojo/Codings/FCBLex-pipeline/scripts/bookdatafunctions.py:472: UserWarning: Boolean Series key will be reindexed to match DataFrame index.\n",
      "  filtered_2 = filtered[m_2]\n",
      "/home/tenojo/Codings/FCBLex-pipeline/scripts/bookdatafunctions.py:472: UserWarning: Boolean Series key will be reindexed to match DataFrame index.\n",
      "  filtered_2 = filtered[m_2]\n",
      "/home/tenojo/Codings/FCBLex-pipeline/scripts/bookdatafunctions.py:472: UserWarning: Boolean Series key will be reindexed to match DataFrame index.\n",
      "  filtered_2 = filtered[m_2]\n",
      "/home/tenojo/Codings/FCBLex-pipeline/scripts/bookdatafunctions.py:472: UserWarning: Boolean Series key will be reindexed to match DataFrame index.\n",
      "  filtered_2 = filtered[m_2]\n",
      "/home/tenojo/Codings/FCBLex-pipeline/scripts/bookdatafunctions.py:472: UserWarning: Boolean Series key will be reindexed to match DataFrame index.\n",
      "  filtered_2 = filtered[m_2]\n",
      "/home/tenojo/Codings/FCBLex-pipeline/scripts/bookdatafunctions.py:472: UserWarning: Boolean Series key will be reindexed to match DataFrame index.\n",
      "  filtered_2 = filtered[m_2]\n",
      "/home/tenojo/Codings/FCBLex-pipeline/scripts/bookdatafunctions.py:472: UserWarning: Boolean Series key will be reindexed to match DataFrame index.\n",
      "  filtered_2 = filtered[m_2]\n",
      "/home/tenojo/Codings/FCBLex-pipeline/scripts/bookdatafunctions.py:472: UserWarning: Boolean Series key will be reindexed to match DataFrame index.\n",
      "  filtered_2 = filtered[m_2]\n",
      "/home/tenojo/Codings/FCBLex-pipeline/scripts/bookdatafunctions.py:472: UserWarning: Boolean Series key will be reindexed to match DataFrame index.\n",
      "  filtered_2 = filtered[m_2]\n",
      "/home/tenojo/Codings/FCBLex-pipeline/scripts/bookdatafunctions.py:472: UserWarning: Boolean Series key will be reindexed to match DataFrame index.\n",
      "  filtered_2 = filtered[m_2]\n",
      "/home/tenojo/Codings/FCBLex-pipeline/scripts/bookdatafunctions.py:472: UserWarning: Boolean Series key will be reindexed to match DataFrame index.\n",
      "  filtered_2 = filtered[m_2]\n",
      "/home/tenojo/Codings/FCBLex-pipeline/scripts/bookdatafunctions.py:472: UserWarning: Boolean Series key will be reindexed to match DataFrame index.\n",
      "  filtered_2 = filtered[m_2]\n",
      "/home/tenojo/Codings/FCBLex-pipeline/scripts/bookdatafunctions.py:472: UserWarning: Boolean Series key will be reindexed to match DataFrame index.\n",
      "  filtered_2 = filtered[m_2]\n",
      "/home/tenojo/Codings/FCBLex-pipeline/scripts/bookdatafunctions.py:472: UserWarning: Boolean Series key will be reindexed to match DataFrame index.\n",
      "  filtered_2 = filtered[m_2]\n",
      "/home/tenojo/Codings/FCBLex-pipeline/scripts/bookdatafunctions.py:472: UserWarning: Boolean Series key will be reindexed to match DataFrame index.\n",
      "  filtered_2 = filtered[m_2]\n",
      "/home/tenojo/Codings/FCBLex-pipeline/scripts/bookdatafunctions.py:472: UserWarning: Boolean Series key will be reindexed to match DataFrame index.\n",
      "  filtered_2 = filtered[m_2]\n",
      "/home/tenojo/Codings/FCBLex-pipeline/scripts/bookdatafunctions.py:472: UserWarning: Boolean Series key will be reindexed to match DataFrame index.\n",
      "  filtered_2 = filtered[m_2]\n",
      "/home/tenojo/Codings/FCBLex-pipeline/scripts/bookdatafunctions.py:472: UserWarning: Boolean Series key will be reindexed to match DataFrame index.\n",
      "  filtered_2 = filtered[m_2]\n",
      "/home/tenojo/Codings/FCBLex-pipeline/scripts/bookdatafunctions.py:472: UserWarning: Boolean Series key will be reindexed to match DataFrame index.\n",
      "  filtered_2 = filtered[m_2]\n",
      "/home/tenojo/Codings/FCBLex-pipeline/scripts/bookdatafunctions.py:472: UserWarning: Boolean Series key will be reindexed to match DataFrame index.\n",
      "  filtered_2 = filtered[m_2]\n",
      "/home/tenojo/Codings/FCBLex-pipeline/scripts/bookdatafunctions.py:472: UserWarning: Boolean Series key will be reindexed to match DataFrame index.\n",
      "  filtered_2 = filtered[m_2]\n",
      "/home/tenojo/Codings/FCBLex-pipeline/scripts/bookdatafunctions.py:472: UserWarning: Boolean Series key will be reindexed to match DataFrame index.\n",
      "  filtered_2 = filtered[m_2]\n",
      "/home/tenojo/Codings/FCBLex-pipeline/scripts/bookdatafunctions.py:472: UserWarning: Boolean Series key will be reindexed to match DataFrame index.\n",
      "  filtered_2 = filtered[m_2]\n",
      "/home/tenojo/Codings/FCBLex-pipeline/scripts/bookdatafunctions.py:472: UserWarning: Boolean Series key will be reindexed to match DataFrame index.\n",
      "  filtered_2 = filtered[m_2]\n",
      "/home/tenojo/Codings/FCBLex-pipeline/scripts/bookdatafunctions.py:472: UserWarning: Boolean Series key will be reindexed to match DataFrame index.\n",
      "  filtered_2 = filtered[m_2]\n",
      "/home/tenojo/Codings/FCBLex-pipeline/scripts/bookdatafunctions.py:472: UserWarning: Boolean Series key will be reindexed to match DataFrame index.\n",
      "  filtered_2 = filtered[m_2]\n",
      "/home/tenojo/Codings/FCBLex-pipeline/scripts/bookdatafunctions.py:472: UserWarning: Boolean Series key will be reindexed to match DataFrame index.\n",
      "  filtered_2 = filtered[m_2]\n",
      "/home/tenojo/Codings/FCBLex-pipeline/scripts/bookdatafunctions.py:472: UserWarning: Boolean Series key will be reindexed to match DataFrame index.\n",
      "  filtered_2 = filtered[m_2]\n",
      "/home/tenojo/Codings/FCBLex-pipeline/scripts/bookdatafunctions.py:472: UserWarning: Boolean Series key will be reindexed to match DataFrame index.\n",
      "  filtered_2 = filtered[m_2]\n",
      "/home/tenojo/Codings/FCBLex-pipeline/scripts/bookdatafunctions.py:472: UserWarning: Boolean Series key will be reindexed to match DataFrame index.\n",
      "  filtered_2 = filtered[m_2]\n",
      "/home/tenojo/Codings/FCBLex-pipeline/scripts/bookdatafunctions.py:472: UserWarning: Boolean Series key will be reindexed to match DataFrame index.\n",
      "  filtered_2 = filtered[m_2]\n",
      "/home/tenojo/Codings/FCBLex-pipeline/scripts/bookdatafunctions.py:472: UserWarning: Boolean Series key will be reindexed to match DataFrame index.\n",
      "  filtered_2 = filtered[m_2]\n",
      "/home/tenojo/Codings/FCBLex-pipeline/scripts/bookdatafunctions.py:472: UserWarning: Boolean Series key will be reindexed to match DataFrame index.\n",
      "  filtered_2 = filtered[m_2]\n",
      "/home/tenojo/Codings/FCBLex-pipeline/scripts/bookdatafunctions.py:472: UserWarning: Boolean Series key will be reindexed to match DataFrame index.\n",
      "  filtered_2 = filtered[m_2]\n",
      "/home/tenojo/Codings/FCBLex-pipeline/scripts/bookdatafunctions.py:472: UserWarning: Boolean Series key will be reindexed to match DataFrame index.\n",
      "  filtered_2 = filtered[m_2]\n",
      "/home/tenojo/Codings/FCBLex-pipeline/scripts/bookdatafunctions.py:472: UserWarning: Boolean Series key will be reindexed to match DataFrame index.\n",
      "  filtered_2 = filtered[m_2]\n",
      "/home/tenojo/Codings/FCBLex-pipeline/scripts/bookdatafunctions.py:472: UserWarning: Boolean Series key will be reindexed to match DataFrame index.\n",
      "  filtered_2 = filtered[m_2]\n",
      "/home/tenojo/Codings/FCBLex-pipeline/scripts/bookdatafunctions.py:472: UserWarning: Boolean Series key will be reindexed to match DataFrame index.\n",
      "  filtered_2 = filtered[m_2]\n",
      "/home/tenojo/Codings/FCBLex-pipeline/scripts/bookdatafunctions.py:472: UserWarning: Boolean Series key will be reindexed to match DataFrame index.\n",
      "  filtered_2 = filtered[m_2]\n",
      "/home/tenojo/Codings/FCBLex-pipeline/scripts/bookdatafunctions.py:472: UserWarning: Boolean Series key will be reindexed to match DataFrame index.\n",
      "  filtered_2 = filtered[m_2]\n",
      "/home/tenojo/Codings/FCBLex-pipeline/scripts/bookdatafunctions.py:472: UserWarning: Boolean Series key will be reindexed to match DataFrame index.\n",
      "  filtered_2 = filtered[m_2]\n",
      "/home/tenojo/Codings/FCBLex-pipeline/scripts/bookdatafunctions.py:472: UserWarning: Boolean Series key will be reindexed to match DataFrame index.\n",
      "  filtered_2 = filtered[m_2]\n",
      "/home/tenojo/Codings/FCBLex-pipeline/scripts/bookdatafunctions.py:472: UserWarning: Boolean Series key will be reindexed to match DataFrame index.\n",
      "  filtered_2 = filtered[m_2]\n",
      "/home/tenojo/Codings/FCBLex-pipeline/scripts/bookdatafunctions.py:472: UserWarning: Boolean Series key will be reindexed to match DataFrame index.\n",
      "  filtered_2 = filtered[m_2]\n",
      "/home/tenojo/Codings/FCBLex-pipeline/scripts/bookdatafunctions.py:472: UserWarning: Boolean Series key will be reindexed to match DataFrame index.\n",
      "  filtered_2 = filtered[m_2]\n",
      "/home/tenojo/Codings/FCBLex-pipeline/scripts/bookdatafunctions.py:472: UserWarning: Boolean Series key will be reindexed to match DataFrame index.\n",
      "  filtered_2 = filtered[m_2]\n",
      "/home/tenojo/Codings/FCBLex-pipeline/scripts/bookdatafunctions.py:472: UserWarning: Boolean Series key will be reindexed to match DataFrame index.\n",
      "  filtered_2 = filtered[m_2]\n",
      "/home/tenojo/Codings/FCBLex-pipeline/scripts/bookdatafunctions.py:472: UserWarning: Boolean Series key will be reindexed to match DataFrame index.\n",
      "  filtered_2 = filtered[m_2]\n",
      "/home/tenojo/Codings/FCBLex-pipeline/scripts/bookdatafunctions.py:472: UserWarning: Boolean Series key will be reindexed to match DataFrame index.\n",
      "  filtered_2 = filtered[m_2]\n",
      "/home/tenojo/Codings/FCBLex-pipeline/scripts/bookdatafunctions.py:472: UserWarning: Boolean Series key will be reindexed to match DataFrame index.\n",
      "  filtered_2 = filtered[m_2]\n",
      "/home/tenojo/Codings/FCBLex-pipeline/scripts/bookdatafunctions.py:472: UserWarning: Boolean Series key will be reindexed to match DataFrame index.\n",
      "  filtered_2 = filtered[m_2]\n",
      "/home/tenojo/Codings/FCBLex-pipeline/scripts/bookdatafunctions.py:472: UserWarning: Boolean Series key will be reindexed to match DataFrame index.\n",
      "  filtered_2 = filtered[m_2]\n",
      "/home/tenojo/Codings/FCBLex-pipeline/scripts/bookdatafunctions.py:472: UserWarning: Boolean Series key will be reindexed to match DataFrame index.\n",
      "  filtered_2 = filtered[m_2]\n",
      "/home/tenojo/Codings/FCBLex-pipeline/scripts/bookdatafunctions.py:472: UserWarning: Boolean Series key will be reindexed to match DataFrame index.\n",
      "  filtered_2 = filtered[m_2]\n",
      "/home/tenojo/Codings/FCBLex-pipeline/scripts/bookdatafunctions.py:472: UserWarning: Boolean Series key will be reindexed to match DataFrame index.\n",
      "  filtered_2 = filtered[m_2]\n",
      "/home/tenojo/Codings/FCBLex-pipeline/scripts/bookdatafunctions.py:472: UserWarning: Boolean Series key will be reindexed to match DataFrame index.\n",
      "  filtered_2 = filtered[m_2]\n",
      "/home/tenojo/Codings/FCBLex-pipeline/scripts/bookdatafunctions.py:472: UserWarning: Boolean Series key will be reindexed to match DataFrame index.\n",
      "  filtered_2 = filtered[m_2]\n",
      "/home/tenojo/Codings/FCBLex-pipeline/scripts/bookdatafunctions.py:472: UserWarning: Boolean Series key will be reindexed to match DataFrame index.\n",
      "  filtered_2 = filtered[m_2]\n",
      "/home/tenojo/Codings/FCBLex-pipeline/scripts/bookdatafunctions.py:472: UserWarning: Boolean Series key will be reindexed to match DataFrame index.\n",
      "  filtered_2 = filtered[m_2]\n",
      "/home/tenojo/Codings/FCBLex-pipeline/scripts/bookdatafunctions.py:472: UserWarning: Boolean Series key will be reindexed to match DataFrame index.\n",
      "  filtered_2 = filtered[m_2]\n",
      "/home/tenojo/Codings/FCBLex-pipeline/scripts/bookdatafunctions.py:472: UserWarning: Boolean Series key will be reindexed to match DataFrame index.\n",
      "  filtered_2 = filtered[m_2]\n",
      "/home/tenojo/Codings/FCBLex-pipeline/scripts/bookdatafunctions.py:472: UserWarning: Boolean Series key will be reindexed to match DataFrame index.\n",
      "  filtered_2 = filtered[m_2]\n",
      "/home/tenojo/Codings/FCBLex-pipeline/scripts/bookdatafunctions.py:472: UserWarning: Boolean Series key will be reindexed to match DataFrame index.\n",
      "  filtered_2 = filtered[m_2]\n",
      "/home/tenojo/Codings/FCBLex-pipeline/scripts/bookdatafunctions.py:472: UserWarning: Boolean Series key will be reindexed to match DataFrame index.\n",
      "  filtered_2 = filtered[m_2]\n",
      "/home/tenojo/Codings/FCBLex-pipeline/scripts/bookdatafunctions.py:472: UserWarning: Boolean Series key will be reindexed to match DataFrame index.\n",
      "  filtered_2 = filtered[m_2]\n",
      "/home/tenojo/Codings/FCBLex-pipeline/scripts/bookdatafunctions.py:472: UserWarning: Boolean Series key will be reindexed to match DataFrame index.\n",
      "  filtered_2 = filtered[m_2]\n",
      "/home/tenojo/Codings/FCBLex-pipeline/scripts/bookdatafunctions.py:472: UserWarning: Boolean Series key will be reindexed to match DataFrame index.\n",
      "  filtered_2 = filtered[m_2]\n",
      "/home/tenojo/Codings/FCBLex-pipeline/scripts/bookdatafunctions.py:472: UserWarning: Boolean Series key will be reindexed to match DataFrame index.\n",
      "  filtered_2 = filtered[m_2]\n",
      "/home/tenojo/Codings/FCBLex-pipeline/scripts/bookdatafunctions.py:472: UserWarning: Boolean Series key will be reindexed to match DataFrame index.\n",
      "  filtered_2 = filtered[m_2]\n",
      "/home/tenojo/Codings/FCBLex-pipeline/scripts/bookdatafunctions.py:472: UserWarning: Boolean Series key will be reindexed to match DataFrame index.\n",
      "  filtered_2 = filtered[m_2]\n",
      "/home/tenojo/Codings/FCBLex-pipeline/scripts/bookdatafunctions.py:472: UserWarning: Boolean Series key will be reindexed to match DataFrame index.\n",
      "  filtered_2 = filtered[m_2]\n",
      "/home/tenojo/Codings/FCBLex-pipeline/scripts/bookdatafunctions.py:472: UserWarning: Boolean Series key will be reindexed to match DataFrame index.\n",
      "  filtered_2 = filtered[m_2]\n",
      "/home/tenojo/Codings/FCBLex-pipeline/scripts/bookdatafunctions.py:472: UserWarning: Boolean Series key will be reindexed to match DataFrame index.\n",
      "  filtered_2 = filtered[m_2]\n",
      "/home/tenojo/Codings/FCBLex-pipeline/scripts/bookdatafunctions.py:472: UserWarning: Boolean Series key will be reindexed to match DataFrame index.\n",
      "  filtered_2 = filtered[m_2]\n",
      "/home/tenojo/Codings/FCBLex-pipeline/scripts/bookdatafunctions.py:472: UserWarning: Boolean Series key will be reindexed to match DataFrame index.\n",
      "  filtered_2 = filtered[m_2]\n",
      "/home/tenojo/Codings/FCBLex-pipeline/scripts/bookdatafunctions.py:472: UserWarning: Boolean Series key will be reindexed to match DataFrame index.\n",
      "  filtered_2 = filtered[m_2]\n",
      "/home/tenojo/Codings/FCBLex-pipeline/scripts/bookdatafunctions.py:472: UserWarning: Boolean Series key will be reindexed to match DataFrame index.\n",
      "  filtered_2 = filtered[m_2]\n",
      "/home/tenojo/Codings/FCBLex-pipeline/scripts/bookdatafunctions.py:472: UserWarning: Boolean Series key will be reindexed to match DataFrame index.\n",
      "  filtered_2 = filtered[m_2]\n",
      "/home/tenojo/Codings/FCBLex-pipeline/scripts/bookdatafunctions.py:472: UserWarning: Boolean Series key will be reindexed to match DataFrame index.\n",
      "  filtered_2 = filtered[m_2]\n",
      "/home/tenojo/Codings/FCBLex-pipeline/scripts/bookdatafunctions.py:472: UserWarning: Boolean Series key will be reindexed to match DataFrame index.\n",
      "  filtered_2 = filtered[m_2]\n",
      "/home/tenojo/Codings/FCBLex-pipeline/scripts/bookdatafunctions.py:472: UserWarning: Boolean Series key will be reindexed to match DataFrame index.\n",
      "  filtered_2 = filtered[m_2]\n",
      "/home/tenojo/Codings/FCBLex-pipeline/scripts/bookdatafunctions.py:472: UserWarning: Boolean Series key will be reindexed to match DataFrame index.\n",
      "  filtered_2 = filtered[m_2]\n",
      "/home/tenojo/Codings/FCBLex-pipeline/scripts/bookdatafunctions.py:472: UserWarning: Boolean Series key will be reindexed to match DataFrame index.\n",
      "  filtered_2 = filtered[m_2]\n",
      "/home/tenojo/Codings/FCBLex-pipeline/scripts/bookdatafunctions.py:472: UserWarning: Boolean Series key will be reindexed to match DataFrame index.\n",
      "  filtered_2 = filtered[m_2]\n",
      "/home/tenojo/Codings/FCBLex-pipeline/scripts/bookdatafunctions.py:472: UserWarning: Boolean Series key will be reindexed to match DataFrame index.\n",
      "  filtered_2 = filtered[m_2]\n",
      "/home/tenojo/Codings/FCBLex-pipeline/scripts/bookdatafunctions.py:472: UserWarning: Boolean Series key will be reindexed to match DataFrame index.\n",
      "  filtered_2 = filtered[m_2]\n",
      "/home/tenojo/Codings/FCBLex-pipeline/scripts/bookdatafunctions.py:472: UserWarning: Boolean Series key will be reindexed to match DataFrame index.\n",
      "  filtered_2 = filtered[m_2]\n",
      "/home/tenojo/Codings/FCBLex-pipeline/scripts/bookdatafunctions.py:472: UserWarning: Boolean Series key will be reindexed to match DataFrame index.\n",
      "  filtered_2 = filtered[m_2]\n",
      "/home/tenojo/Codings/FCBLex-pipeline/scripts/bookdatafunctions.py:472: UserWarning: Boolean Series key will be reindexed to match DataFrame index.\n",
      "  filtered_2 = filtered[m_2]\n",
      "/home/tenojo/Codings/FCBLex-pipeline/scripts/bookdatafunctions.py:472: UserWarning: Boolean Series key will be reindexed to match DataFrame index.\n",
      "  filtered_2 = filtered[m_2]\n",
      "/home/tenojo/Codings/FCBLex-pipeline/scripts/bookdatafunctions.py:472: UserWarning: Boolean Series key will be reindexed to match DataFrame index.\n",
      "  filtered_2 = filtered[m_2]\n",
      "/home/tenojo/Codings/FCBLex-pipeline/scripts/bookdatafunctions.py:472: UserWarning: Boolean Series key will be reindexed to match DataFrame index.\n",
      "  filtered_2 = filtered[m_2]\n",
      "/home/tenojo/Codings/FCBLex-pipeline/scripts/bookdatafunctions.py:472: UserWarning: Boolean Series key will be reindexed to match DataFrame index.\n",
      "  filtered_2 = filtered[m_2]\n",
      "/home/tenojo/Codings/FCBLex-pipeline/scripts/bookdatafunctions.py:472: UserWarning: Boolean Series key will be reindexed to match DataFrame index.\n",
      "  filtered_2 = filtered[m_2]\n",
      "/home/tenojo/Codings/FCBLex-pipeline/scripts/bookdatafunctions.py:472: UserWarning: Boolean Series key will be reindexed to match DataFrame index.\n",
      "  filtered_2 = filtered[m_2]\n",
      "/home/tenojo/Codings/FCBLex-pipeline/scripts/bookdatafunctions.py:472: UserWarning: Boolean Series key will be reindexed to match DataFrame index.\n",
      "  filtered_2 = filtered[m_2]\n",
      "/home/tenojo/Codings/FCBLex-pipeline/scripts/bookdatafunctions.py:472: UserWarning: Boolean Series key will be reindexed to match DataFrame index.\n",
      "  filtered_2 = filtered[m_2]\n",
      "/home/tenojo/Codings/FCBLex-pipeline/scripts/bookdatafunctions.py:472: UserWarning: Boolean Series key will be reindexed to match DataFrame index.\n",
      "  filtered_2 = filtered[m_2]\n",
      "/home/tenojo/Codings/FCBLex-pipeline/scripts/bookdatafunctions.py:472: UserWarning: Boolean Series key will be reindexed to match DataFrame index.\n",
      "  filtered_2 = filtered[m_2]\n",
      "/home/tenojo/Codings/FCBLex-pipeline/scripts/bookdatafunctions.py:472: UserWarning: Boolean Series key will be reindexed to match DataFrame index.\n",
      "  filtered_2 = filtered[m_2]\n",
      "/home/tenojo/Codings/FCBLex-pipeline/scripts/bookdatafunctions.py:472: UserWarning: Boolean Series key will be reindexed to match DataFrame index.\n",
      "  filtered_2 = filtered[m_2]\n",
      "/home/tenojo/Codings/FCBLex-pipeline/scripts/bookdatafunctions.py:472: UserWarning: Boolean Series key will be reindexed to match DataFrame index.\n",
      "  filtered_2 = filtered[m_2]\n",
      "/home/tenojo/Codings/FCBLex-pipeline/scripts/bookdatafunctions.py:472: UserWarning: Boolean Series key will be reindexed to match DataFrame index.\n",
      "  filtered_2 = filtered[m_2]\n",
      "/home/tenojo/Codings/FCBLex-pipeline/scripts/bookdatafunctions.py:472: UserWarning: Boolean Series key will be reindexed to match DataFrame index.\n",
      "  filtered_2 = filtered[m_2]\n",
      "/home/tenojo/Codings/FCBLex-pipeline/scripts/bookdatafunctions.py:472: UserWarning: Boolean Series key will be reindexed to match DataFrame index.\n",
      "  filtered_2 = filtered[m_2]\n",
      "/home/tenojo/Codings/FCBLex-pipeline/scripts/bookdatafunctions.py:472: UserWarning: Boolean Series key will be reindexed to match DataFrame index.\n",
      "  filtered_2 = filtered[m_2]\n",
      "/home/tenojo/Codings/FCBLex-pipeline/scripts/bookdatafunctions.py:472: UserWarning: Boolean Series key will be reindexed to match DataFrame index.\n",
      "  filtered_2 = filtered[m_2]\n",
      "/home/tenojo/Codings/FCBLex-pipeline/scripts/bookdatafunctions.py:472: UserWarning: Boolean Series key will be reindexed to match DataFrame index.\n",
      "  filtered_2 = filtered[m_2]\n",
      "/home/tenojo/Codings/FCBLex-pipeline/scripts/bookdatafunctions.py:472: UserWarning: Boolean Series key will be reindexed to match DataFrame index.\n",
      "  filtered_2 = filtered[m_2]\n",
      "/home/tenojo/Codings/FCBLex-pipeline/scripts/bookdatafunctions.py:472: UserWarning: Boolean Series key will be reindexed to match DataFrame index.\n",
      "  filtered_2 = filtered[m_2]\n",
      "/home/tenojo/Codings/FCBLex-pipeline/scripts/bookdatafunctions.py:472: UserWarning: Boolean Series key will be reindexed to match DataFrame index.\n",
      "  filtered_2 = filtered[m_2]\n",
      "/home/tenojo/Codings/FCBLex-pipeline/scripts/bookdatafunctions.py:472: UserWarning: Boolean Series key will be reindexed to match DataFrame index.\n",
      "  filtered_2 = filtered[m_2]\n",
      "/home/tenojo/Codings/FCBLex-pipeline/scripts/bookdatafunctions.py:472: UserWarning: Boolean Series key will be reindexed to match DataFrame index.\n",
      "  filtered_2 = filtered[m_2]\n",
      "/home/tenojo/Codings/FCBLex-pipeline/scripts/bookdatafunctions.py:472: UserWarning: Boolean Series key will be reindexed to match DataFrame index.\n",
      "  filtered_2 = filtered[m_2]\n",
      "/home/tenojo/Codings/FCBLex-pipeline/scripts/bookdatafunctions.py:472: UserWarning: Boolean Series key will be reindexed to match DataFrame index.\n",
      "  filtered_2 = filtered[m_2]\n",
      "/home/tenojo/Codings/FCBLex-pipeline/scripts/bookdatafunctions.py:472: UserWarning: Boolean Series key will be reindexed to match DataFrame index.\n",
      "  filtered_2 = filtered[m_2]\n",
      "/home/tenojo/Codings/FCBLex-pipeline/scripts/bookdatafunctions.py:472: UserWarning: Boolean Series key will be reindexed to match DataFrame index.\n",
      "  filtered_2 = filtered[m_2]\n",
      "/home/tenojo/Codings/FCBLex-pipeline/scripts/bookdatafunctions.py:472: UserWarning: Boolean Series key will be reindexed to match DataFrame index.\n",
      "  filtered_2 = filtered[m_2]\n",
      "/home/tenojo/Codings/FCBLex-pipeline/scripts/bookdatafunctions.py:472: UserWarning: Boolean Series key will be reindexed to match DataFrame index.\n",
      "  filtered_2 = filtered[m_2]\n",
      "/home/tenojo/Codings/FCBLex-pipeline/scripts/bookdatafunctions.py:472: UserWarning: Boolean Series key will be reindexed to match DataFrame index.\n",
      "  filtered_2 = filtered[m_2]\n",
      "/home/tenojo/Codings/FCBLex-pipeline/scripts/bookdatafunctions.py:472: UserWarning: Boolean Series key will be reindexed to match DataFrame index.\n",
      "  filtered_2 = filtered[m_2]\n",
      "/home/tenojo/Codings/FCBLex-pipeline/scripts/bookdatafunctions.py:472: UserWarning: Boolean Series key will be reindexed to match DataFrame index.\n",
      "  filtered_2 = filtered[m_2]\n",
      "/home/tenojo/Codings/FCBLex-pipeline/scripts/bookdatafunctions.py:472: UserWarning: Boolean Series key will be reindexed to match DataFrame index.\n",
      "  filtered_2 = filtered[m_2]\n",
      "/home/tenojo/Codings/FCBLex-pipeline/scripts/bookdatafunctions.py:472: UserWarning: Boolean Series key will be reindexed to match DataFrame index.\n",
      "  filtered_2 = filtered[m_2]\n",
      "/home/tenojo/Codings/FCBLex-pipeline/scripts/bookdatafunctions.py:472: UserWarning: Boolean Series key will be reindexed to match DataFrame index.\n",
      "  filtered_2 = filtered[m_2]\n",
      "/home/tenojo/Codings/FCBLex-pipeline/scripts/bookdatafunctions.py:472: UserWarning: Boolean Series key will be reindexed to match DataFrame index.\n",
      "  filtered_2 = filtered[m_2]\n",
      "/home/tenojo/Codings/FCBLex-pipeline/scripts/bookdatafunctions.py:472: UserWarning: Boolean Series key will be reindexed to match DataFrame index.\n",
      "  filtered_2 = filtered[m_2]\n",
      "/home/tenojo/Codings/FCBLex-pipeline/scripts/bookdatafunctions.py:472: UserWarning: Boolean Series key will be reindexed to match DataFrame index.\n",
      "  filtered_2 = filtered[m_2]\n",
      "/home/tenojo/Codings/FCBLex-pipeline/scripts/bookdatafunctions.py:472: UserWarning: Boolean Series key will be reindexed to match DataFrame index.\n",
      "  filtered_2 = filtered[m_2]\n",
      "/home/tenojo/Codings/FCBLex-pipeline/scripts/bookdatafunctions.py:472: UserWarning: Boolean Series key will be reindexed to match DataFrame index.\n",
      "  filtered_2 = filtered[m_2]\n",
      "/home/tenojo/Codings/FCBLex-pipeline/scripts/bookdatafunctions.py:472: UserWarning: Boolean Series key will be reindexed to match DataFrame index.\n",
      "  filtered_2 = filtered[m_2]\n",
      "/home/tenojo/Codings/FCBLex-pipeline/scripts/bookdatafunctions.py:472: UserWarning: Boolean Series key will be reindexed to match DataFrame index.\n",
      "  filtered_2 = filtered[m_2]\n",
      "/home/tenojo/Codings/FCBLex-pipeline/scripts/bookdatafunctions.py:472: UserWarning: Boolean Series key will be reindexed to match DataFrame index.\n",
      "  filtered_2 = filtered[m_2]\n",
      "/home/tenojo/Codings/FCBLex-pipeline/scripts/bookdatafunctions.py:472: UserWarning: Boolean Series key will be reindexed to match DataFrame index.\n",
      "  filtered_2 = filtered[m_2]\n",
      "/home/tenojo/Codings/FCBLex-pipeline/scripts/bookdatafunctions.py:472: UserWarning: Boolean Series key will be reindexed to match DataFrame index.\n",
      "  filtered_2 = filtered[m_2]\n",
      "/home/tenojo/Codings/FCBLex-pipeline/scripts/bookdatafunctions.py:472: UserWarning: Boolean Series key will be reindexed to match DataFrame index.\n",
      "  filtered_2 = filtered[m_2]\n",
      "/home/tenojo/Codings/FCBLex-pipeline/scripts/bookdatafunctions.py:472: UserWarning: Boolean Series key will be reindexed to match DataFrame index.\n",
      "  filtered_2 = filtered[m_2]\n",
      "/home/tenojo/Codings/FCBLex-pipeline/scripts/bookdatafunctions.py:472: UserWarning: Boolean Series key will be reindexed to match DataFrame index.\n",
      "  filtered_2 = filtered[m_2]\n",
      "/home/tenojo/Codings/FCBLex-pipeline/scripts/bookdatafunctions.py:472: UserWarning: Boolean Series key will be reindexed to match DataFrame index.\n",
      "  filtered_2 = filtered[m_2]\n",
      "/home/tenojo/Codings/FCBLex-pipeline/scripts/bookdatafunctions.py:472: UserWarning: Boolean Series key will be reindexed to match DataFrame index.\n",
      "  filtered_2 = filtered[m_2]\n",
      "/home/tenojo/Codings/FCBLex-pipeline/scripts/bookdatafunctions.py:472: UserWarning: Boolean Series key will be reindexed to match DataFrame index.\n",
      "  filtered_2 = filtered[m_2]\n",
      "/home/tenojo/Codings/FCBLex-pipeline/scripts/bookdatafunctions.py:472: UserWarning: Boolean Series key will be reindexed to match DataFrame index.\n",
      "  filtered_2 = filtered[m_2]\n",
      "/home/tenojo/Codings/FCBLex-pipeline/scripts/bookdatafunctions.py:472: UserWarning: Boolean Series key will be reindexed to match DataFrame index.\n",
      "  filtered_2 = filtered[m_2]\n",
      "/home/tenojo/Codings/FCBLex-pipeline/scripts/bookdatafunctions.py:472: UserWarning: Boolean Series key will be reindexed to match DataFrame index.\n",
      "  filtered_2 = filtered[m_2]\n",
      "/home/tenojo/Codings/FCBLex-pipeline/scripts/bookdatafunctions.py:472: UserWarning: Boolean Series key will be reindexed to match DataFrame index.\n",
      "  filtered_2 = filtered[m_2]\n"
     ]
    }
   ],
   "source": [
    "#Load corpus and map ages\n",
    "corpus_ages_mapped = bdf.mapGroup2Age(bdf.cleanLemmas(bdf.initBooksFromConllus(CONLLU_FOLDER)), ISBN2AGE_PATH)"
   ]
  },
  {
   "cell_type": "code",
   "execution_count": 93,
   "metadata": {},
   "outputs": [],
   "source": [
    "#Divide sub-corpora\n",
    "ages = sorted(bdf.getAvailableAges(corpus_ages_mapped))\n",
    "sub_corpora = [bdf.getDistinctSubCorp(corpus_ages_mapped, x) for x in ages]"
   ]
  },
  {
   "cell_type": "code",
   "execution_count": 94,
   "metadata": {},
   "outputs": [],
   "source": [
    "#Grab stats necessary for Zipf-calculations\n",
    "word_amounts_total = bdf.getTokenAmounts(corpus_ages_mapped)\n",
    "word_amounts_sub = [bdf.getTokenAmounts(x) for x in sub_corpora]\n",
    "\n",
    "l = bdf.getL(word_amounts_total)\n",
    "l_sub = [bdf.getL(x) for x in word_amounts_sub]"
   ]
  },
  {
   "cell_type": "markdown",
   "metadata": {},
   "source": [
    "Lemma Zipf-values"
   ]
  },
  {
   "cell_type": "code",
   "execution_count": 95,
   "metadata": {},
   "outputs": [],
   "source": [
    "lemma_freqs = bdf.getLemmaFrequencies(corpus_ages_mapped)\n",
    "lemma_freqs_sub = [bdf.getLemmaFrequencies(x) for x in sub_corpora]\n",
    "\n",
    "f_lemma = bdf.combineFrequencies(lemma_freqs)\n",
    "f_lemma_sub = [bdf.combineFrequencies(x) for x in lemma_freqs_sub]\n",
    "\n",
    "lemma_zipfs = bdf.getZipfValues(l, f_lemma)\n",
    "lemma_zipfs_sub = [bdf.getZipfValues(l_sub[i], f_lemma_sub[i]) for i in range(len(sub_corpora))]"
   ]
  },
  {
   "cell_type": "code",
   "execution_count": 101,
   "metadata": {},
   "outputs": [
    {
     "name": "stdout",
     "output_type": "stream",
     "text": [
      "0           3.693781\n",
      "0#napaa     2.790691\n",
      "0,25-0,5    3.012540\n",
      "0,5-1       3.267813\n",
      "0,5-2       2.790691\n",
      "              ...   \n",
      "⑨           2.614600\n",
      "よ           2.614600\n",
      "ㅚ           2.614600\n",
      "埃           2.614600\n",
      "狼           2.614600\n",
      "Length: 136253, dtype: float64\n"
     ]
    }
   ],
   "source": [
    "print(lemma_zipfs)"
   ]
  },
  {
   "cell_type": "code",
   "execution_count": 96,
   "metadata": {},
   "outputs": [
    {
     "data": {
      "text/plain": [
       "<matplotlib.lines.Line2D at 0x732c33411d80>"
      ]
     },
     "execution_count": 96,
     "metadata": {},
     "output_type": "execute_result"
    },
    {
     "data": {
      "image/png": "[encoded data removed]",
      "text/plain": [
       "<Figure size 640x480 with 1 Axes>"
      ]
     },
     "metadata": {},
     "output_type": "display_data"
    }
   ],
   "source": [
    "ax = lemma_zipfs.plot.hist(bins=30)\n",
    "ax.set_ylim(0,75000)\n",
    "ax.set_xlim(2.5,7)\n",
    "per_60 = np.percentile(lemma_zipfs.values, 60)\n",
    "per_80 = np.percentile(lemma_zipfs.values, 80)\n",
    "per_90 = np.percentile(lemma_zipfs.values, 90)\n",
    "ax.axvline(per_60, color='r', linestyle='dashed', linewidth=1, label='60th Percentile')\n",
    "ax.axvline(per_80, color='r', linestyle='dashed', linewidth=1, label='80th Percentile')\n",
    "ax.axvline(per_90, color='r', linestyle='dashed', linewidth=1, label='90th Percentile')"
   ]
  },
  {
   "cell_type": "code",
   "execution_count": 97,
   "metadata": {},
   "outputs": [
    {
     "data": {
      "text/plain": [
       "<matplotlib.lines.Line2D at 0x732c398b0490>"
      ]
     },
     "execution_count": 97,
     "metadata": {},
     "output_type": "execute_result"
    },
    {
     "data": {
      "image/png": "[encoded data removed]",
      "text/plain": [
       "<Figure size 640x480 with 1 Axes>"
      ]
     },
     "metadata": {},
     "output_type": "display_data"
    }
   ],
   "source": [
    "i=0\n",
    "ax1 = lemma_zipfs_sub[i].plot.hist(bins=30)\n",
    "ax1.set_ylim(0,75000)\n",
    "ax1.set_xlim(2.5,7)\n",
    "per_60 = np.percentile(lemma_zipfs_sub[i].values, 60)\n",
    "per_80 = np.percentile(lemma_zipfs_sub[i].values, 80)\n",
    "per_90 = np.percentile(lemma_zipfs_sub[i].values, 90)\n",
    "ax1.axvline(per_60, color='r', linestyle='dashed', linewidth=1, label='60th Percentile')\n",
    "ax1.axvline(per_80, color='r', linestyle='dashed', linewidth=1, label='80th Percentile')\n",
    "ax1.axvline(per_90, color='r', linestyle='dashed', linewidth=1, label='90th Percentile')"
   ]
  },
  {
   "cell_type": "markdown",
   "metadata": {},
   "source": [
    "Word-type Zipf-values"
   ]
  },
  {
   "cell_type": "code",
   "execution_count": 98,
   "metadata": {},
   "outputs": [],
   "source": [
    "word_freqs = bdf.getWordFrequencies(corpus_ages_mapped)\n",
    "word_freqs_sub = [bdf.getWordFrequencies(x) for x in sub_corpora]\n",
    "\n",
    "f_word = bdf.combineFrequencies(word_freqs)\n",
    "f_word_sub = [bdf.combineFrequencies(x) for x in word_freqs_sub]\n",
    "\n",
    "word_zipfs = bdf.getZipfValues(l, f_word)\n",
    "word_zipfs_sub = [bdf.getZipfValues(l_sub[i], f_word_sub[i]) for i in range(len(sub_corpora))]"
   ]
  },
  {
   "cell_type": "code",
   "execution_count": 100,
   "metadata": {},
   "outputs": [
    {
     "data": {
      "text/plain": [
       "<matplotlib.lines.Line2D at 0x732c03543940>"
      ]
     },
     "execution_count": 100,
     "metadata": {},
     "output_type": "execute_result"
    },
    {
     "data": {
      "image/png": "[encoded data removed]",
      "text/plain": [
       "<Figure size 640x480 with 1 Axes>"
      ]
     },
     "metadata": {},
     "output_type": "display_data"
    }
   ],
   "source": [
    "ax = word_zipfs.plot.hist(bins=30)\n",
    "#ax.set_ylim(0,75000)\n",
    "ax.set_xlim(2.5,7)\n",
    "per_60 = np.percentile(word_zipfs.values, 60)\n",
    "per_80 = np.percentile(word_zipfs.values, 80)\n",
    "per_90 = np.percentile(word_zipfs.values, 90)\n",
    "ax.axvline(per_60, color='r', linestyle='dashed', linewidth=1, label='60th Percentile')\n",
    "ax.axvline(per_80, color='r', linestyle='dashed', linewidth=1, label='80th Percentile')\n",
    "ax.axvline(per_90, color='r', linestyle='dashed', linewidth=1, label='90th Percentile')"
   ]
  }
 ],
 "metadata": {
  "kernelspec": {
   "display_name": "Test",
   "language": "python",
   "name": "python3"
  },
  "language_info": {
   "codemirror_mode": {
    "name": "ipython",
    "version": 3
   },
   "file_extension": ".py",
   "mimetype": "text/x-python",
   "name": "python",
   "nbconvert_exporter": "python",
   "pygments_lexer": "ipython3",
   "version": "3.10.16"
  }
 },
 "nbformat": 4,
 "nbformat_minor": 2
}
